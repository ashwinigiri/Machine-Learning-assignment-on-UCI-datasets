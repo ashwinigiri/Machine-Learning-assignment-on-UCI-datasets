{
 "cells": [
  {
   "cell_type": "markdown",
   "metadata": {},
   "source": [
    "Name: Ashwini Giri\n",
    "\n",
    "USC ID: 5413882039"
   ]
  },
  {
   "cell_type": "markdown",
   "metadata": {},
   "source": [
    "# 2. K-Means Clustering on a Multi-Class and Multi-Label Data Set"
   ]
  },
  {
   "cell_type": "markdown",
   "metadata": {},
   "source": [
    "(a) Use k-means clustering on Anuran Calls (MFCCs) Data Set of Homework 4. Choose k automatically based on one of the methods provided in the slides (CH or Gap Statistics or scree plots) or any other method you know."
   ]
  },
  {
   "cell_type": "markdown",
   "metadata": {},
   "source": [
    "All imports for the question"
   ]
  },
  {
   "cell_type": "code",
   "execution_count": 94,
   "metadata": {},
   "outputs": [],
   "source": [
    "import pandas as pd\n",
    "import numpy as np\n",
    "import matplotlib.pyplot as plt\n",
    "%matplotlib inline\n",
    "from sklearn.cluster import KMeans\n",
    "from sklearn.metrics import silhouette_score\n",
    "from sklearn.metrics import silhouette_samples\n",
    "from sklearn.metrics import calinski_harabaz_score\n",
    "from sklearn.metrics import hamming_loss\n",
    "import warnings\n",
    "warnings.filterwarnings('ignore')"
   ]
  },
  {
   "cell_type": "markdown",
   "metadata": {},
   "source": [
    "Downloaded the dataset Anuran Calls. Dropping the Column RecordID as it is not included as a predictor. This dataset is a Multi-class Multi-label dataset. \n",
    "\n",
    "The classes are:\n",
    "1. Family\n",
    "2. Genus\n",
    "3. Species\n",
    "\n",
    "The labels for class 'Family' are:\n",
    "1. Bufonidae\n",
    "2. Dendrobatidae\n",
    "3. Hylidae\n",
    "4. Leptodactylidae\n",
    "\n",
    "The Labels for class 'Genus' are:\n",
    "1. Adenomera\n",
    "2. Ameerega\n",
    "3. Dendropsophus\n",
    "4. Hypsiboas\n",
    "5. Leptodactylus\n",
    "6. Osteocephalus\n",
    "7. Rhinella\n",
    "8. Scinax\n",
    "\n",
    "The labels for class 'Species' are:\n",
    "1. AdenomeraAndre\n",
    "2. AdenomeraHylaedactylus\n",
    "3. Ameeregatrivittata\n",
    "4. HylaMinuta\n",
    "5. HypsiboasCinerascens\n",
    "6. HypsiboasCordobae\n",
    "7. LeptodactylusFuscus\n",
    "8. OsteocephalusOophagus\n",
    "9. Rhinellagranulosa\n",
    "10. ScinaxRuber"
   ]
  },
  {
   "cell_type": "code",
   "execution_count": 4,
   "metadata": {},
   "outputs": [],
   "source": [
    "dataframe = pd.read_csv('Frogs_MFCCs.csv')"
   ]
  },
  {
   "cell_type": "code",
   "execution_count": 9,
   "metadata": {},
   "outputs": [
    {
     "name": "stdout",
     "output_type": "stream",
     "text": [
      "FAMILY LABELS:  ['Bufonidae' 'Dendrobatidae' 'Hylidae' 'Leptodactylidae']\n",
      "GENUS LABELS:  ['Adenomera' 'Ameerega' 'Dendropsophus' 'Hypsiboas' 'Leptodactylus'\n",
      " 'Osteocephalus' 'Rhinella' 'Scinax']\n",
      "SPECIES LABELS:  ['AdenomeraAndre' 'AdenomeraHylaedactylus' 'Ameeregatrivittata'\n",
      " 'HylaMinuta' 'HypsiboasCinerascens' 'HypsiboasCordobae'\n",
      " 'LeptodactylusFuscus' 'OsteocephalusOophagus' 'Rhinellagranulosa'\n",
      " 'ScinaxRuber']\n"
     ]
    }
   ],
   "source": [
    "diff_family = np.unique(dataframe['Family'])\n",
    "diff_genus=np.unique(dataframe['Genus'])\n",
    "diff_species=np.unique(dataframe['Species'])\n",
    "print(\"FAMILY LABELS: \",diff_family)\n",
    "print(\"GENUS LABELS: \",diff_genus)\n",
    "print(\"SPECIES LABELS: \",diff_species)"
   ]
  },
  {
   "cell_type": "markdown",
   "metadata": {},
   "source": [
    "dropping column RecordID"
   ]
  },
  {
   "cell_type": "code",
   "execution_count": 10,
   "metadata": {},
   "outputs": [
    {
     "data": {
      "text/html": [
       "<div>\n",
       "<style scoped>\n",
       "    .dataframe tbody tr th:only-of-type {\n",
       "        vertical-align: middle;\n",
       "    }\n",
       "\n",
       "    .dataframe tbody tr th {\n",
       "        vertical-align: top;\n",
       "    }\n",
       "\n",
       "    .dataframe thead th {\n",
       "        text-align: right;\n",
       "    }\n",
       "</style>\n",
       "<table border=\"1\" class=\"dataframe\">\n",
       "  <thead>\n",
       "    <tr style=\"text-align: right;\">\n",
       "      <th></th>\n",
       "      <th>MFCCs_ 1</th>\n",
       "      <th>MFCCs_ 2</th>\n",
       "      <th>MFCCs_ 3</th>\n",
       "      <th>MFCCs_ 4</th>\n",
       "      <th>MFCCs_ 5</th>\n",
       "      <th>MFCCs_ 6</th>\n",
       "      <th>MFCCs_ 7</th>\n",
       "      <th>MFCCs_ 8</th>\n",
       "      <th>MFCCs_ 9</th>\n",
       "      <th>MFCCs_10</th>\n",
       "      <th>...</th>\n",
       "      <th>MFCCs_16</th>\n",
       "      <th>MFCCs_17</th>\n",
       "      <th>MFCCs_18</th>\n",
       "      <th>MFCCs_19</th>\n",
       "      <th>MFCCs_20</th>\n",
       "      <th>MFCCs_21</th>\n",
       "      <th>MFCCs_22</th>\n",
       "      <th>Family</th>\n",
       "      <th>Genus</th>\n",
       "      <th>Species</th>\n",
       "    </tr>\n",
       "  </thead>\n",
       "  <tbody>\n",
       "    <tr>\n",
       "      <th>0</th>\n",
       "      <td>1.0</td>\n",
       "      <td>0.152936</td>\n",
       "      <td>-0.105586</td>\n",
       "      <td>0.200722</td>\n",
       "      <td>0.317201</td>\n",
       "      <td>0.260764</td>\n",
       "      <td>0.100945</td>\n",
       "      <td>-0.150063</td>\n",
       "      <td>-0.171128</td>\n",
       "      <td>0.124676</td>\n",
       "      <td>...</td>\n",
       "      <td>-0.024017</td>\n",
       "      <td>-0.108351</td>\n",
       "      <td>-0.077623</td>\n",
       "      <td>-0.009568</td>\n",
       "      <td>0.057684</td>\n",
       "      <td>0.118680</td>\n",
       "      <td>0.014038</td>\n",
       "      <td>Leptodactylidae</td>\n",
       "      <td>Adenomera</td>\n",
       "      <td>AdenomeraAndre</td>\n",
       "    </tr>\n",
       "    <tr>\n",
       "      <th>1</th>\n",
       "      <td>1.0</td>\n",
       "      <td>0.171534</td>\n",
       "      <td>-0.098975</td>\n",
       "      <td>0.268425</td>\n",
       "      <td>0.338672</td>\n",
       "      <td>0.268353</td>\n",
       "      <td>0.060835</td>\n",
       "      <td>-0.222475</td>\n",
       "      <td>-0.207693</td>\n",
       "      <td>0.170883</td>\n",
       "      <td>...</td>\n",
       "      <td>0.012022</td>\n",
       "      <td>-0.090974</td>\n",
       "      <td>-0.056510</td>\n",
       "      <td>-0.035303</td>\n",
       "      <td>0.020140</td>\n",
       "      <td>0.082263</td>\n",
       "      <td>0.029056</td>\n",
       "      <td>Leptodactylidae</td>\n",
       "      <td>Adenomera</td>\n",
       "      <td>AdenomeraAndre</td>\n",
       "    </tr>\n",
       "    <tr>\n",
       "      <th>2</th>\n",
       "      <td>1.0</td>\n",
       "      <td>0.152317</td>\n",
       "      <td>-0.082973</td>\n",
       "      <td>0.287128</td>\n",
       "      <td>0.276014</td>\n",
       "      <td>0.189867</td>\n",
       "      <td>0.008714</td>\n",
       "      <td>-0.242234</td>\n",
       "      <td>-0.219153</td>\n",
       "      <td>0.232538</td>\n",
       "      <td>...</td>\n",
       "      <td>0.083536</td>\n",
       "      <td>-0.050691</td>\n",
       "      <td>-0.023590</td>\n",
       "      <td>-0.066722</td>\n",
       "      <td>-0.025083</td>\n",
       "      <td>0.099108</td>\n",
       "      <td>0.077162</td>\n",
       "      <td>Leptodactylidae</td>\n",
       "      <td>Adenomera</td>\n",
       "      <td>AdenomeraAndre</td>\n",
       "    </tr>\n",
       "    <tr>\n",
       "      <th>3</th>\n",
       "      <td>1.0</td>\n",
       "      <td>0.224392</td>\n",
       "      <td>0.118985</td>\n",
       "      <td>0.329432</td>\n",
       "      <td>0.372088</td>\n",
       "      <td>0.361005</td>\n",
       "      <td>0.015501</td>\n",
       "      <td>-0.194347</td>\n",
       "      <td>-0.098181</td>\n",
       "      <td>0.270375</td>\n",
       "      <td>...</td>\n",
       "      <td>-0.050224</td>\n",
       "      <td>-0.136009</td>\n",
       "      <td>-0.177037</td>\n",
       "      <td>-0.130498</td>\n",
       "      <td>-0.054766</td>\n",
       "      <td>-0.018691</td>\n",
       "      <td>0.023954</td>\n",
       "      <td>Leptodactylidae</td>\n",
       "      <td>Adenomera</td>\n",
       "      <td>AdenomeraAndre</td>\n",
       "    </tr>\n",
       "    <tr>\n",
       "      <th>4</th>\n",
       "      <td>1.0</td>\n",
       "      <td>0.087817</td>\n",
       "      <td>-0.068345</td>\n",
       "      <td>0.306967</td>\n",
       "      <td>0.330923</td>\n",
       "      <td>0.249144</td>\n",
       "      <td>0.006884</td>\n",
       "      <td>-0.265423</td>\n",
       "      <td>-0.172700</td>\n",
       "      <td>0.266434</td>\n",
       "      <td>...</td>\n",
       "      <td>0.062837</td>\n",
       "      <td>-0.048885</td>\n",
       "      <td>-0.053074</td>\n",
       "      <td>-0.088550</td>\n",
       "      <td>-0.031346</td>\n",
       "      <td>0.108610</td>\n",
       "      <td>0.079244</td>\n",
       "      <td>Leptodactylidae</td>\n",
       "      <td>Adenomera</td>\n",
       "      <td>AdenomeraAndre</td>\n",
       "    </tr>\n",
       "  </tbody>\n",
       "</table>\n",
       "<p>5 rows × 25 columns</p>\n",
       "</div>"
      ],
      "text/plain": [
       "   MFCCs_ 1  MFCCs_ 2  MFCCs_ 3  MFCCs_ 4  MFCCs_ 5  MFCCs_ 6  MFCCs_ 7  \\\n",
       "0       1.0  0.152936 -0.105586  0.200722  0.317201  0.260764  0.100945   \n",
       "1       1.0  0.171534 -0.098975  0.268425  0.338672  0.268353  0.060835   \n",
       "2       1.0  0.152317 -0.082973  0.287128  0.276014  0.189867  0.008714   \n",
       "3       1.0  0.224392  0.118985  0.329432  0.372088  0.361005  0.015501   \n",
       "4       1.0  0.087817 -0.068345  0.306967  0.330923  0.249144  0.006884   \n",
       "\n",
       "   MFCCs_ 8  MFCCs_ 9  MFCCs_10       ...        MFCCs_16  MFCCs_17  MFCCs_18  \\\n",
       "0 -0.150063 -0.171128  0.124676       ...       -0.024017 -0.108351 -0.077623   \n",
       "1 -0.222475 -0.207693  0.170883       ...        0.012022 -0.090974 -0.056510   \n",
       "2 -0.242234 -0.219153  0.232538       ...        0.083536 -0.050691 -0.023590   \n",
       "3 -0.194347 -0.098181  0.270375       ...       -0.050224 -0.136009 -0.177037   \n",
       "4 -0.265423 -0.172700  0.266434       ...        0.062837 -0.048885 -0.053074   \n",
       "\n",
       "   MFCCs_19  MFCCs_20  MFCCs_21  MFCCs_22           Family      Genus  \\\n",
       "0 -0.009568  0.057684  0.118680  0.014038  Leptodactylidae  Adenomera   \n",
       "1 -0.035303  0.020140  0.082263  0.029056  Leptodactylidae  Adenomera   \n",
       "2 -0.066722 -0.025083  0.099108  0.077162  Leptodactylidae  Adenomera   \n",
       "3 -0.130498 -0.054766 -0.018691  0.023954  Leptodactylidae  Adenomera   \n",
       "4 -0.088550 -0.031346  0.108610  0.079244  Leptodactylidae  Adenomera   \n",
       "\n",
       "          Species  \n",
       "0  AdenomeraAndre  \n",
       "1  AdenomeraAndre  \n",
       "2  AdenomeraAndre  \n",
       "3  AdenomeraAndre  \n",
       "4  AdenomeraAndre  \n",
       "\n",
       "[5 rows x 25 columns]"
      ]
     },
     "execution_count": 10,
     "metadata": {},
     "output_type": "execute_result"
    }
   ],
   "source": [
    "dataframe = dataframe.drop(columns = ['RecordID'])\n",
    "dataframe.head()"
   ]
  },
  {
   "cell_type": "markdown",
   "metadata": {},
   "source": [
    "dividing the data into train data and labels"
   ]
  },
  {
   "cell_type": "code",
   "execution_count": 11,
   "metadata": {},
   "outputs": [],
   "source": [
    "train = dataframe.loc[:,:'MFCCs_22']\n",
    "family = dataframe['Family']\n",
    "genus = dataframe['Genus']\n",
    "species = dataframe['Species']"
   ]
  },
  {
   "cell_type": "code",
   "execution_count": 12,
   "metadata": {},
   "outputs": [
    {
     "data": {
      "text/plain": [
       "Leptodactylidae    4420\n",
       "Hylidae            2165\n",
       "Dendrobatidae       542\n",
       "Bufonidae            68\n",
       "Name: Family, dtype: int64"
      ]
     },
     "execution_count": 12,
     "metadata": {},
     "output_type": "execute_result"
    }
   ],
   "source": [
    "family.value_counts()"
   ]
  },
  {
   "cell_type": "code",
   "execution_count": 13,
   "metadata": {},
   "outputs": [
    {
     "data": {
      "text/plain": [
       "Adenomera        4150\n",
       "Hypsiboas        1593\n",
       "Ameerega          542\n",
       "Dendropsophus     310\n",
       "Leptodactylus     270\n",
       "Scinax            148\n",
       "Osteocephalus     114\n",
       "Rhinella           68\n",
       "Name: Genus, dtype: int64"
      ]
     },
     "execution_count": 13,
     "metadata": {},
     "output_type": "execute_result"
    }
   ],
   "source": [
    "genus.value_counts()"
   ]
  },
  {
   "cell_type": "code",
   "execution_count": 28,
   "metadata": {},
   "outputs": [
    {
     "data": {
      "text/plain": [
       "AdenomeraHylaedactylus    3478\n",
       "HypsiboasCordobae         1121\n",
       "AdenomeraAndre             672\n",
       "Ameeregatrivittata         542\n",
       "HypsiboasCinerascens       472\n",
       "HylaMinuta                 310\n",
       "LeptodactylusFuscus        270\n",
       "ScinaxRuber                148\n",
       "OsteocephalusOophagus      114\n",
       "Rhinellagranulosa           68\n",
       "Name: Species, dtype: int64"
      ]
     },
     "execution_count": 28,
     "metadata": {},
     "output_type": "execute_result"
    }
   ],
   "source": [
    "species.value_counts()"
   ]
  },
  {
   "cell_type": "code",
   "execution_count": 29,
   "metadata": {},
   "outputs": [],
   "source": [
    "species_unique = species.unique().tolist()\n",
    "family_unique = family.unique().tolist()\n",
    "genus_unique = genus.unique().tolist()"
   ]
  },
  {
   "cell_type": "code",
   "execution_count": 30,
   "metadata": {
    "scrolled": true
   },
   "outputs": [
    {
     "data": {
      "text/html": [
       "<div>\n",
       "<style scoped>\n",
       "    .dataframe tbody tr th:only-of-type {\n",
       "        vertical-align: middle;\n",
       "    }\n",
       "\n",
       "    .dataframe tbody tr th {\n",
       "        vertical-align: top;\n",
       "    }\n",
       "\n",
       "    .dataframe thead th {\n",
       "        text-align: right;\n",
       "    }\n",
       "</style>\n",
       "<table border=\"1\" class=\"dataframe\">\n",
       "  <thead>\n",
       "    <tr style=\"text-align: right;\">\n",
       "      <th></th>\n",
       "      <th>MFCCs_ 1</th>\n",
       "      <th>MFCCs_ 2</th>\n",
       "      <th>MFCCs_ 3</th>\n",
       "      <th>MFCCs_ 4</th>\n",
       "      <th>MFCCs_ 5</th>\n",
       "      <th>MFCCs_ 6</th>\n",
       "      <th>MFCCs_ 7</th>\n",
       "      <th>MFCCs_ 8</th>\n",
       "      <th>MFCCs_ 9</th>\n",
       "      <th>MFCCs_10</th>\n",
       "      <th>...</th>\n",
       "      <th>MFCCs_13</th>\n",
       "      <th>MFCCs_14</th>\n",
       "      <th>MFCCs_15</th>\n",
       "      <th>MFCCs_16</th>\n",
       "      <th>MFCCs_17</th>\n",
       "      <th>MFCCs_18</th>\n",
       "      <th>MFCCs_19</th>\n",
       "      <th>MFCCs_20</th>\n",
       "      <th>MFCCs_21</th>\n",
       "      <th>MFCCs_22</th>\n",
       "    </tr>\n",
       "  </thead>\n",
       "  <tbody>\n",
       "    <tr>\n",
       "      <th>0</th>\n",
       "      <td>1.0</td>\n",
       "      <td>0.152936</td>\n",
       "      <td>-0.105586</td>\n",
       "      <td>0.200722</td>\n",
       "      <td>0.317201</td>\n",
       "      <td>0.260764</td>\n",
       "      <td>0.100945</td>\n",
       "      <td>-0.150063</td>\n",
       "      <td>-0.171128</td>\n",
       "      <td>0.124676</td>\n",
       "      <td>...</td>\n",
       "      <td>-0.156436</td>\n",
       "      <td>0.082245</td>\n",
       "      <td>0.135752</td>\n",
       "      <td>-0.024017</td>\n",
       "      <td>-0.108351</td>\n",
       "      <td>-0.077623</td>\n",
       "      <td>-0.009568</td>\n",
       "      <td>0.057684</td>\n",
       "      <td>0.118680</td>\n",
       "      <td>0.014038</td>\n",
       "    </tr>\n",
       "    <tr>\n",
       "      <th>1</th>\n",
       "      <td>1.0</td>\n",
       "      <td>0.171534</td>\n",
       "      <td>-0.098975</td>\n",
       "      <td>0.268425</td>\n",
       "      <td>0.338672</td>\n",
       "      <td>0.268353</td>\n",
       "      <td>0.060835</td>\n",
       "      <td>-0.222475</td>\n",
       "      <td>-0.207693</td>\n",
       "      <td>0.170883</td>\n",
       "      <td>...</td>\n",
       "      <td>-0.254341</td>\n",
       "      <td>0.022786</td>\n",
       "      <td>0.163320</td>\n",
       "      <td>0.012022</td>\n",
       "      <td>-0.090974</td>\n",
       "      <td>-0.056510</td>\n",
       "      <td>-0.035303</td>\n",
       "      <td>0.020140</td>\n",
       "      <td>0.082263</td>\n",
       "      <td>0.029056</td>\n",
       "    </tr>\n",
       "    <tr>\n",
       "      <th>2</th>\n",
       "      <td>1.0</td>\n",
       "      <td>0.152317</td>\n",
       "      <td>-0.082973</td>\n",
       "      <td>0.287128</td>\n",
       "      <td>0.276014</td>\n",
       "      <td>0.189867</td>\n",
       "      <td>0.008714</td>\n",
       "      <td>-0.242234</td>\n",
       "      <td>-0.219153</td>\n",
       "      <td>0.232538</td>\n",
       "      <td>...</td>\n",
       "      <td>-0.237384</td>\n",
       "      <td>0.050791</td>\n",
       "      <td>0.207338</td>\n",
       "      <td>0.083536</td>\n",
       "      <td>-0.050691</td>\n",
       "      <td>-0.023590</td>\n",
       "      <td>-0.066722</td>\n",
       "      <td>-0.025083</td>\n",
       "      <td>0.099108</td>\n",
       "      <td>0.077162</td>\n",
       "    </tr>\n",
       "    <tr>\n",
       "      <th>3</th>\n",
       "      <td>1.0</td>\n",
       "      <td>0.224392</td>\n",
       "      <td>0.118985</td>\n",
       "      <td>0.329432</td>\n",
       "      <td>0.372088</td>\n",
       "      <td>0.361005</td>\n",
       "      <td>0.015501</td>\n",
       "      <td>-0.194347</td>\n",
       "      <td>-0.098181</td>\n",
       "      <td>0.270375</td>\n",
       "      <td>...</td>\n",
       "      <td>-0.317084</td>\n",
       "      <td>-0.011567</td>\n",
       "      <td>0.100413</td>\n",
       "      <td>-0.050224</td>\n",
       "      <td>-0.136009</td>\n",
       "      <td>-0.177037</td>\n",
       "      <td>-0.130498</td>\n",
       "      <td>-0.054766</td>\n",
       "      <td>-0.018691</td>\n",
       "      <td>0.023954</td>\n",
       "    </tr>\n",
       "    <tr>\n",
       "      <th>4</th>\n",
       "      <td>1.0</td>\n",
       "      <td>0.087817</td>\n",
       "      <td>-0.068345</td>\n",
       "      <td>0.306967</td>\n",
       "      <td>0.330923</td>\n",
       "      <td>0.249144</td>\n",
       "      <td>0.006884</td>\n",
       "      <td>-0.265423</td>\n",
       "      <td>-0.172700</td>\n",
       "      <td>0.266434</td>\n",
       "      <td>...</td>\n",
       "      <td>-0.298524</td>\n",
       "      <td>0.037439</td>\n",
       "      <td>0.219153</td>\n",
       "      <td>0.062837</td>\n",
       "      <td>-0.048885</td>\n",
       "      <td>-0.053074</td>\n",
       "      <td>-0.088550</td>\n",
       "      <td>-0.031346</td>\n",
       "      <td>0.108610</td>\n",
       "      <td>0.079244</td>\n",
       "    </tr>\n",
       "  </tbody>\n",
       "</table>\n",
       "<p>5 rows × 22 columns</p>\n",
       "</div>"
      ],
      "text/plain": [
       "   MFCCs_ 1  MFCCs_ 2  MFCCs_ 3  MFCCs_ 4  MFCCs_ 5  MFCCs_ 6  MFCCs_ 7  \\\n",
       "0       1.0  0.152936 -0.105586  0.200722  0.317201  0.260764  0.100945   \n",
       "1       1.0  0.171534 -0.098975  0.268425  0.338672  0.268353  0.060835   \n",
       "2       1.0  0.152317 -0.082973  0.287128  0.276014  0.189867  0.008714   \n",
       "3       1.0  0.224392  0.118985  0.329432  0.372088  0.361005  0.015501   \n",
       "4       1.0  0.087817 -0.068345  0.306967  0.330923  0.249144  0.006884   \n",
       "\n",
       "   MFCCs_ 8  MFCCs_ 9  MFCCs_10    ...     MFCCs_13  MFCCs_14  MFCCs_15  \\\n",
       "0 -0.150063 -0.171128  0.124676    ...    -0.156436  0.082245  0.135752   \n",
       "1 -0.222475 -0.207693  0.170883    ...    -0.254341  0.022786  0.163320   \n",
       "2 -0.242234 -0.219153  0.232538    ...    -0.237384  0.050791  0.207338   \n",
       "3 -0.194347 -0.098181  0.270375    ...    -0.317084 -0.011567  0.100413   \n",
       "4 -0.265423 -0.172700  0.266434    ...    -0.298524  0.037439  0.219153   \n",
       "\n",
       "   MFCCs_16  MFCCs_17  MFCCs_18  MFCCs_19  MFCCs_20  MFCCs_21  MFCCs_22  \n",
       "0 -0.024017 -0.108351 -0.077623 -0.009568  0.057684  0.118680  0.014038  \n",
       "1  0.012022 -0.090974 -0.056510 -0.035303  0.020140  0.082263  0.029056  \n",
       "2  0.083536 -0.050691 -0.023590 -0.066722 -0.025083  0.099108  0.077162  \n",
       "3 -0.050224 -0.136009 -0.177037 -0.130498 -0.054766 -0.018691  0.023954  \n",
       "4  0.062837 -0.048885 -0.053074 -0.088550 -0.031346  0.108610  0.079244  \n",
       "\n",
       "[5 rows x 22 columns]"
      ]
     },
     "execution_count": 30,
     "metadata": {},
     "output_type": "execute_result"
    }
   ],
   "source": [
    "train.head()"
   ]
  },
  {
   "cell_type": "markdown",
   "metadata": {},
   "source": [
    "Using Elbow method for choosing K from range 1 to 20"
   ]
  },
  {
   "cell_type": "code",
   "execution_count": 31,
   "metadata": {},
   "outputs": [],
   "source": [
    "cluster_range = range(1, 20)\n",
    "cluster_errors = []\n",
    "\n",
    "for num_clusters in cluster_range:\n",
    "    clusters = KMeans(n_clusters=num_clusters)\n",
    "    clusters.fit(train)\n",
    "    cluster_errors.append(clusters.inertia_)"
   ]
  },
  {
   "cell_type": "code",
   "execution_count": 32,
   "metadata": {},
   "outputs": [],
   "source": [
    "clusters_df = pd.DataFrame( { \"num_clusters\":cluster_range, \"cluster_errors\": cluster_errors } )"
   ]
  },
  {
   "cell_type": "code",
   "execution_count": 33,
   "metadata": {},
   "outputs": [
    {
     "data": {
      "text/html": [
       "<div>\n",
       "<style scoped>\n",
       "    .dataframe tbody tr th:only-of-type {\n",
       "        vertical-align: middle;\n",
       "    }\n",
       "\n",
       "    .dataframe tbody tr th {\n",
       "        vertical-align: top;\n",
       "    }\n",
       "\n",
       "    .dataframe thead th {\n",
       "        text-align: right;\n",
       "    }\n",
       "</style>\n",
       "<table border=\"1\" class=\"dataframe\">\n",
       "  <thead>\n",
       "    <tr style=\"text-align: right;\">\n",
       "      <th></th>\n",
       "      <th>cluster_errors</th>\n",
       "      <th>num_clusters</th>\n",
       "    </tr>\n",
       "  </thead>\n",
       "  <tbody>\n",
       "    <tr>\n",
       "      <th>0</th>\n",
       "      <td>3727.524167</td>\n",
       "      <td>1</td>\n",
       "    </tr>\n",
       "    <tr>\n",
       "      <th>1</th>\n",
       "      <td>2465.764126</td>\n",
       "      <td>2</td>\n",
       "    </tr>\n",
       "    <tr>\n",
       "      <th>2</th>\n",
       "      <td>1984.734016</td>\n",
       "      <td>3</td>\n",
       "    </tr>\n",
       "    <tr>\n",
       "      <th>3</th>\n",
       "      <td>1733.757406</td>\n",
       "      <td>4</td>\n",
       "    </tr>\n",
       "    <tr>\n",
       "      <th>4</th>\n",
       "      <td>1513.677631</td>\n",
       "      <td>5</td>\n",
       "    </tr>\n",
       "    <tr>\n",
       "      <th>5</th>\n",
       "      <td>1400.050684</td>\n",
       "      <td>6</td>\n",
       "    </tr>\n",
       "    <tr>\n",
       "      <th>6</th>\n",
       "      <td>1300.411550</td>\n",
       "      <td>7</td>\n",
       "    </tr>\n",
       "    <tr>\n",
       "      <th>7</th>\n",
       "      <td>1212.950696</td>\n",
       "      <td>8</td>\n",
       "    </tr>\n",
       "    <tr>\n",
       "      <th>8</th>\n",
       "      <td>1135.986175</td>\n",
       "      <td>9</td>\n",
       "    </tr>\n",
       "    <tr>\n",
       "      <th>9</th>\n",
       "      <td>1074.503085</td>\n",
       "      <td>10</td>\n",
       "    </tr>\n",
       "  </tbody>\n",
       "</table>\n",
       "</div>"
      ],
      "text/plain": [
       "   cluster_errors  num_clusters\n",
       "0     3727.524167             1\n",
       "1     2465.764126             2\n",
       "2     1984.734016             3\n",
       "3     1733.757406             4\n",
       "4     1513.677631             5\n",
       "5     1400.050684             6\n",
       "6     1300.411550             7\n",
       "7     1212.950696             8\n",
       "8     1135.986175             9\n",
       "9     1074.503085            10"
      ]
     },
     "execution_count": 33,
     "metadata": {},
     "output_type": "execute_result"
    }
   ],
   "source": [
    "clusters_df[0:10]"
   ]
  },
  {
   "cell_type": "code",
   "execution_count": 34,
   "metadata": {},
   "outputs": [
    {
     "data": {
      "image/png": "[encoded data removed]",
      "text/plain": [
       "<matplotlib.figure.Figure at 0x1a0ce75b70>"
      ]
     },
     "metadata": {},
     "output_type": "display_data"
    }
   ],
   "source": [
    "plt.figure(figsize=(12,6))\n",
    "plt.plot( clusters_df.num_clusters, clusters_df.cluster_errors, marker = \"o\" )\n",
    "plt.xlabel('Number of Clusters')\n",
    "plt.ylabel('WSS')\n",
    "plt.title('Elbow prediction')\n",
    "plt.show()"
   ]
  },
  {
   "cell_type": "markdown",
   "metadata": {},
   "source": [
    "here k = 5 is recognized as best using Elbow method, because there is a gradual decrease in the WSS when K=5."
   ]
  },
  {
   "cell_type": "markdown",
   "metadata": {},
   "source": [
    "CH score method for choosing K from 1 to 20"
   ]
  },
  {
   "cell_type": "code",
   "execution_count": 35,
   "metadata": {},
   "outputs": [],
   "source": [
    "cluster_range = range(2, 20)\n",
    "ch_score = []\n",
    "\n",
    "for num_clusters in cluster_range:\n",
    "    kmean = KMeans(n_clusters=num_clusters).fit(train)\n",
    "    labels = kmean.labels_\n",
    "    score = calinski_harabaz_score(train,labels)\n",
    "    ch_score.append(score)"
   ]
  },
  {
   "cell_type": "code",
   "execution_count": 36,
   "metadata": {},
   "outputs": [],
   "source": [
    "clusters_df = pd.DataFrame( { \"num_clusters\":cluster_range, \"ch_scores\": ch_score } )"
   ]
  },
  {
   "cell_type": "code",
   "execution_count": 37,
   "metadata": {},
   "outputs": [
    {
     "data": {
      "image/png": "[encoded data removed]",
      "text/plain": [
       "<matplotlib.figure.Figure at 0x1a0d0b47b8>"
      ]
     },
     "metadata": {},
     "output_type": "display_data"
    }
   ],
   "source": [
    "plt.figure(figsize=(8,6))\n",
    "plt.plot( clusters_df.num_clusters, clusters_df.ch_scores, marker = \"o\" )\n",
    "plt.xlabel('Number of Clusters')\n",
    "plt.ylabel('CH Score')\n",
    "plt.title('CH Scores Vs K')\n",
    "plt.show()"
   ]
  },
  {
   "cell_type": "markdown",
   "metadata": {},
   "source": [
    "Best K using CH score is 2 becuase the CH score is highest when the value of K is 2"
   ]
  },
  {
   "cell_type": "markdown",
   "metadata": {},
   "source": [
    "Using silhouette score for choosing K from the range 1 to 20"
   ]
  },
  {
   "cell_type": "code",
   "execution_count": 38,
   "metadata": {},
   "outputs": [],
   "source": [
    "cluster_range = range(2, 20)\n",
    "sil_score = []\n",
    "\n",
    "for num_clusters in cluster_range:\n",
    "    kmean = KMeans(n_clusters=num_clusters).fit(train)\n",
    "    labels = kmean.labels_\n",
    "    score = silhouette_score(train,labels)\n",
    "    sil_score.append(score)"
   ]
  },
  {
   "cell_type": "code",
   "execution_count": 39,
   "metadata": {},
   "outputs": [],
   "source": [
    "clusters_df = pd.DataFrame( { \"num_clusters\":cluster_range, \"sil_scores\": sil_score } )"
   ]
  },
  {
   "cell_type": "code",
   "execution_count": 40,
   "metadata": {},
   "outputs": [
    {
     "data": {
      "image/png": "[encoded data removed]",
      "text/plain": [
       "<matplotlib.figure.Figure at 0x1a0d0cc748>"
      ]
     },
     "metadata": {},
     "output_type": "display_data"
    }
   ],
   "source": [
    "plt.figure(figsize=(8,6))\n",
    "plt.plot( clusters_df.num_clusters, clusters_df.sil_scores, marker = \"o\" )\n",
    "plt.xlim(0,20)\n",
    "plt.xlabel('Number of Clusters')\n",
    "plt.ylabel('Silhouette Score')\n",
    "plt.title('Silhouette')\n",
    "plt.show()"
   ]
  },
  {
   "cell_type": "markdown",
   "metadata": {},
   "source": [
    "From silhouette score the best K is 4 because after k=4 the score starts decreasing monotonuously. \n",
    "Hence for further evaluation in next questions using K=4"
   ]
  },
  {
   "cell_type": "markdown",
   "metadata": {},
   "source": [
    "(b) In each cluster, determine which family is the majority by reading the true labels. Repeat for genus and species."
   ]
  },
  {
   "cell_type": "markdown",
   "metadata": {},
   "source": [
    "getting the labels assigned to the data by kmeans clustering"
   ]
  },
  {
   "cell_type": "code",
   "execution_count": 41,
   "metadata": {},
   "outputs": [],
   "source": [
    "kmean = KMeans(n_clusters=4).fit(train)\n",
    "labels = kmean.labels_"
   ]
  },
  {
   "cell_type": "code",
   "execution_count": 44,
   "metadata": {},
   "outputs": [
    {
     "data": {
      "text/plain": [
       "array([0, 1, 2, 3], dtype=int32)"
      ]
     },
     "execution_count": 44,
     "metadata": {},
     "output_type": "execute_result"
    }
   ],
   "source": [
    "np.unique(labels)"
   ]
  },
  {
   "cell_type": "markdown",
   "metadata": {},
   "source": [
    "hence the unique labels are 0,1,2,3. Retrieving index of unique labels in below code."
   ]
  },
  {
   "cell_type": "code",
   "execution_count": 45,
   "metadata": {},
   "outputs": [],
   "source": [
    "index_0 = np.argwhere(labels == 0)\n",
    "index_1 = np.argwhere(labels == 1)\n",
    "index_2 = np.argwhere(labels == 2)\n",
    "index_3 = np.argwhere(labels == 3)"
   ]
  },
  {
   "cell_type": "markdown",
   "metadata": {},
   "source": [
    "creating dataframe for each label of each class"
   ]
  },
  {
   "cell_type": "code",
   "execution_count": 46,
   "metadata": {},
   "outputs": [],
   "source": [
    "family1_truelabels = pd.DataFrame(columns=['family'])\n",
    "family2_truelabels = pd.DataFrame(columns=['family'])\n",
    "family3_truelabels = pd.DataFrame(columns=['family'])\n",
    "family4_truelabels = pd.DataFrame(columns=['family'])\n",
    "\n",
    "genus1_truelabels = pd.DataFrame(columns=['genus'])\n",
    "genus2_truelabels = pd.DataFrame(columns=['genus'])\n",
    "genus3_truelabels = pd.DataFrame(columns=['genus'])\n",
    "genus4_truelabels = pd.DataFrame(columns=['genus'])\n",
    "\n",
    "species1_truelabels = pd.DataFrame(columns=['species'])\n",
    "species2_truelabels = pd.DataFrame(columns=['species'])\n",
    "species3_truelabels = pd.DataFrame(columns=['species'])\n",
    "species4_truelabels = pd.DataFrame(columns=['species'])"
   ]
  },
  {
   "cell_type": "code",
   "execution_count": 47,
   "metadata": {},
   "outputs": [],
   "source": [
    "index_0 = index_0[:,0].tolist()\n",
    "index_1 = index_1[:,0].tolist()\n",
    "index_2 = index_2[:,0].tolist()\n",
    "index_3 = index_3[:,0].tolist()"
   ]
  },
  {
   "cell_type": "code",
   "execution_count": 48,
   "metadata": {},
   "outputs": [],
   "source": [
    "for i in index_0:\n",
    "    family1_truelabels.loc[i] = family.iloc[i]\n",
    "    genus1_truelabels.loc[i] = genus.iloc[i]\n",
    "    species1_truelabels.loc[i] = species.iloc[i]\n",
    "for i in index_1:\n",
    "    family2_truelabels.loc[i] = family.iloc[i]\n",
    "    genus2_truelabels.loc[i] = genus.iloc[i]\n",
    "    species2_truelabels.loc[i] = species.iloc[i]\n",
    "for i in index_2:\n",
    "    family3_truelabels.loc[i] = family.iloc[i]\n",
    "    genus3_truelabels.loc[i] = genus.iloc[i]\n",
    "    species3_truelabels.loc[i] = species.iloc[i]\n",
    "for i in index_3:\n",
    "    family4_truelabels.loc[i] = family.iloc[i]\n",
    "    genus4_truelabels.loc[i] = genus.iloc[i]\n",
    "    species4_truelabels.loc[i] = species.iloc[i]"
   ]
  },
  {
   "cell_type": "code",
   "execution_count": 58,
   "metadata": {},
   "outputs": [],
   "source": [
    "family1_high = (family1_truelabels['family'].value_counts()).index\n",
    "family2_high = (family2_truelabels['family'].value_counts()).index\n",
    "family3_high = (family3_truelabels['family'].value_counts()).index\n",
    "family4_high = (family4_truelabels['family'].value_counts()).index\n",
    "species1_high = (species1_truelabels['species'].value_counts()).index\n",
    "species2_high = (species2_truelabels['species'].value_counts()).index\n",
    "species3_high = (species3_truelabels['species'].value_counts()).index\n",
    "species4_high = (species4_truelabels['species'].value_counts()).index\n",
    "genus1_high = (genus1_truelabels['genus'].value_counts()).index\n",
    "genus2_high = (genus2_truelabels['genus'].value_counts()).index\n",
    "genus3_high = (genus3_truelabels['genus'].value_counts()).index\n",
    "genus4_high = (genus4_truelabels['genus'].value_counts()).index"
   ]
  },
  {
   "cell_type": "code",
   "execution_count": 70,
   "metadata": {},
   "outputs": [],
   "source": [
    "F = [family1_high[0],family2_high[0],family3_high[0],family4_high[0]]\n",
    "G = [genus1_high[0],genus2_high[0],genus3_high[0],genus4_high[0]]\n",
    "S = [species1_high[0],species2_high[0],species3_high[0],species4_high[0]]"
   ]
  },
  {
   "cell_type": "code",
   "execution_count": 98,
   "metadata": {},
   "outputs": [
    {
     "name": "stdout",
     "output_type": "stream",
     "text": [
      "Family labels assigned to clusters using majority pooling: \n",
      "\n",
      "Cluster 1:\tLeptodactylidae\n",
      "Cluster 2:\tDendrobatidae\n",
      "Cluster 3:\tHylidae\n",
      "Cluster 4:\tHylidae\n",
      "\n",
      "\n",
      "Genus labels assigned to clusters: \n",
      "\n",
      "Cluster 1:\tAdenomera\n",
      "Cluster 2:\tAmeerega\n",
      "Cluster 3:\tHypsiboas\n",
      "Cluster 4:\tHypsiboas\n",
      "\n",
      "\n",
      "Species labels assigned to clusters: \n",
      "\n",
      "Cluster 1:\tAdenomeraHylaedactylus\n",
      "Cluster 2:\tAmeeregatrivittata\n",
      "Cluster 3:\tHypsiboasCordobae\n",
      "Cluster 4:\tHypsiboasCinerascens\n"
     ]
    }
   ],
   "source": [
    "print(\"Family labels assigned to clusters using majority pooling: \\n\")\n",
    "for i in range(0,4):\n",
    "    print(\"Cluster \"+str(i+1)+\":\\t\"+str(F[i]))\n",
    "    \n",
    "print(\"\\n\\nGenus labels assigned to clusters: \\n\")\n",
    "for i in range(0,4):\n",
    "    print(\"Cluster \"+str(i+1)+\":\\t\"+str(G[i]))\n",
    "    \n",
    "print(\"\\n\\nSpecies labels assigned to clusters: \\n\")\n",
    "for i in range(0,4):\n",
    "    print(\"Cluster \"+str(i+1)+\":\\t\"+str(S[i]))"
   ]
  },
  {
   "cell_type": "code",
   "execution_count": 83,
   "metadata": {},
   "outputs": [
    {
     "name": "stdout",
     "output_type": "stream",
     "text": [
      "\tLabel triplets assigned to clusters using majority pooling\n"
     ]
    },
    {
     "data": {
      "text/html": [
       "<div>\n",
       "<style scoped>\n",
       "    .dataframe tbody tr th:only-of-type {\n",
       "        vertical-align: middle;\n",
       "    }\n",
       "\n",
       "    .dataframe tbody tr th {\n",
       "        vertical-align: top;\n",
       "    }\n",
       "\n",
       "    .dataframe thead th {\n",
       "        text-align: right;\n",
       "    }\n",
       "</style>\n",
       "<table border=\"1\" class=\"dataframe\">\n",
       "  <thead>\n",
       "    <tr style=\"text-align: right;\">\n",
       "      <th></th>\n",
       "      <th>Labels</th>\n",
       "      <th>Cluster1</th>\n",
       "      <th>Cluster2</th>\n",
       "      <th>Cluster3</th>\n",
       "      <th>Cluster4</th>\n",
       "    </tr>\n",
       "  </thead>\n",
       "  <tbody>\n",
       "    <tr>\n",
       "      <th>0</th>\n",
       "      <td>Family</td>\n",
       "      <td>Leptodactylidae</td>\n",
       "      <td>Dendrobatidae</td>\n",
       "      <td>Hylidae</td>\n",
       "      <td>Hylidae</td>\n",
       "    </tr>\n",
       "    <tr>\n",
       "      <th>1</th>\n",
       "      <td>Species</td>\n",
       "      <td>AdenomeraHylaedactylus</td>\n",
       "      <td>Ameeregatrivittata</td>\n",
       "      <td>HypsiboasCordobae</td>\n",
       "      <td>HypsiboasCinerascens</td>\n",
       "    </tr>\n",
       "    <tr>\n",
       "      <th>2</th>\n",
       "      <td>Genus</td>\n",
       "      <td>Adenomera</td>\n",
       "      <td>Ameerega</td>\n",
       "      <td>Hypsiboas</td>\n",
       "      <td>Hypsiboas</td>\n",
       "    </tr>\n",
       "  </tbody>\n",
       "</table>\n",
       "</div>"
      ],
      "text/plain": [
       "    Labels                Cluster1            Cluster2           Cluster3  \\\n",
       "0   Family         Leptodactylidae       Dendrobatidae            Hylidae   \n",
       "1  Species  AdenomeraHylaedactylus  Ameeregatrivittata  HypsiboasCordobae   \n",
       "2    Genus               Adenomera            Ameerega          Hypsiboas   \n",
       "\n",
       "               Cluster4  \n",
       "0               Hylidae  \n",
       "1  HypsiboasCinerascens  \n",
       "2             Hypsiboas  "
      ]
     },
     "execution_count": 83,
     "metadata": {},
     "output_type": "execute_result"
    }
   ],
   "source": [
    "display_data = pd.DataFrame(columns=['Labels','Cluster1','Cluster2','Cluster3','Cluster4'])\n",
    "display_data.loc[0] = ['Family']+F\n",
    "display_data.loc[1] = ['Species']+S\n",
    "display_data.loc[2] = ['Genus']+G\n",
    "\n",
    "print(\"\\tLabel triplets assigned to clusters using majority pooling\")\n",
    "display_data"
   ]
  },
  {
   "cell_type": "markdown",
   "metadata": {},
   "source": [
    "(c) Now for each cluster you have a majority label triplet (family, genus, species). Calculate the average Hamming distance between the true labels and the labels assigned by clusters."
   ]
  },
  {
   "cell_type": "markdown",
   "metadata": {},
   "source": [
    "Assigning the value of label calculated using majority pooling to every data point of the respective cluster. Then calculating the distance between the labels assigned by the kmeans algorithm and the true labels. "
   ]
  },
  {
   "cell_type": "code",
   "execution_count": 86,
   "metadata": {},
   "outputs": [],
   "source": [
    "predict = kmean.predict(train)\n",
    "family_predict=predict\n",
    "genus_predict=predict\n",
    "species_predict=predict"
   ]
  },
  {
   "cell_type": "code",
   "execution_count": 87,
   "metadata": {},
   "outputs": [],
   "source": [
    "family_df = pd.DataFrame(family_predict,columns=['Family'])\n",
    "genus_df = pd.DataFrame(genus_predict,columns=['Genus'])\n",
    "species_df = pd.DataFrame(species_predict,columns=['Species'])"
   ]
  },
  {
   "cell_type": "code",
   "execution_count": 93,
   "metadata": {},
   "outputs": [],
   "source": [
    "family_df = family_df.replace([0,1,2,3],F)\n",
    "genus_df = genus_df.replace([0,1,2,3],G)\n",
    "species_df = species_df.replace([0,1,2,3],S)"
   ]
  },
  {
   "cell_type": "code",
   "execution_count": 96,
   "metadata": {},
   "outputs": [],
   "source": [
    "hammingscore_family = hamming_loss(dataframe['Family'],family_df)\n",
    "hammingscore_genus = hamming_loss(dataframe['Genus'],genus_df)\n",
    "hammingscore_species = hamming_loss(dataframe['Species'],species_df)"
   ]
  },
  {
   "cell_type": "code",
   "execution_count": 97,
   "metadata": {},
   "outputs": [
    {
     "name": "stdout",
     "output_type": "stream",
     "text": [
      "The Hamming Distance for label Family is: 0.19360667129951356\n",
      "The Hamming Distance for label Genus is: 0.22918693537178597\n",
      "The Hamming Distance for label Speies is: 0.2444753300903405\n"
     ]
    }
   ],
   "source": [
    "print(\"The Hamming Distance for label Family is: \"+str(hammingscore_family))\n",
    "print(\"The Hamming Distance for label Genus is: \"+str(hammingscore_genus))\n",
    "print(\"The Hamming Distance for label Speies is: \"+str(hammingscore_species))"
   ]
  }
 ],
 "metadata": {
  "kernelspec": {
   "display_name": "Python 3",
   "language": "python",
   "name": "python3"
  },
  "language_info": {
   "codemirror_mode": {
    "name": "ipython",
    "version": 3
   },
   "file_extension": ".py",
   "mimetype": "text/x-python",
   "name": "python",
   "nbconvert_exporter": "python",
   "pygments_lexer": "ipython3",
   "version": "3.6.4"
  }
 },
 "nbformat": 4,
 "nbformat_minor": 2
}
