{
 "cells": [
  {
   "cell_type": "markdown",
   "metadata": {},
   "source": [
    "Name: Ashwini Giri\n",
    "\n",
    "USC ID: 5413882039"
   ]
  },
  {
   "cell_type": "markdown",
   "metadata": {},
   "source": [
    "# 1. Supervised, Semi-Supervised, and Unsupervised Learning"
   ]
  },
  {
   "cell_type": "markdown",
   "metadata": {},
   "source": [
    "(a) Download the Blood Transfusion Service Center Data Set from: https://archive. ics.uci.edu/ml/datasets/Blood+Transfusion+Service+Center. This data has two output classes.Use the first 20% of the positive and negative classes in the file as the test set and the rest as the training set."
   ]
  },
  {
   "cell_type": "markdown",
   "metadata": {},
   "source": [
    "imports for all question"
   ]
  },
  {
   "cell_type": "code",
   "execution_count": 2,
   "metadata": {},
   "outputs": [],
   "source": [
    "import pandas as pd\n",
    "import numpy as np\n",
    "import math\n",
    "import warnings\n",
    "warnings.filterwarnings('ignore')\n",
    "from sklearn.metrics import accuracy_score\n",
    "from sklearn.model_selection import train_test_split\n",
    "from sklearn.model_selection import GridSearchCV\n",
    "from sklearn import preprocessing\n",
    "from sklearn.svm import LinearSVC\n",
    "import matplotlib.pyplot as plt\n",
    "%matplotlib inline"
   ]
  },
  {
   "cell_type": "markdown",
   "metadata": {},
   "source": [
    "loading data into dataframe"
   ]
  },
  {
   "cell_type": "code",
   "execution_count": 3,
   "metadata": {},
   "outputs": [
    {
     "data": {
      "text/html": [
       "<div>\n",
       "<style scoped>\n",
       "    .dataframe tbody tr th:only-of-type {\n",
       "        vertical-align: middle;\n",
       "    }\n",
       "\n",
       "    .dataframe tbody tr th {\n",
       "        vertical-align: top;\n",
       "    }\n",
       "\n",
       "    .dataframe thead th {\n",
       "        text-align: right;\n",
       "    }\n",
       "</style>\n",
       "<table border=\"1\" class=\"dataframe\">\n",
       "  <thead>\n",
       "    <tr style=\"text-align: right;\">\n",
       "      <th></th>\n",
       "      <th>Recency</th>\n",
       "      <th>Frequency</th>\n",
       "      <th>Monetary</th>\n",
       "      <th>Time</th>\n",
       "      <th>donated_blood</th>\n",
       "    </tr>\n",
       "  </thead>\n",
       "  <tbody>\n",
       "    <tr>\n",
       "      <th>0</th>\n",
       "      <td>2</td>\n",
       "      <td>50</td>\n",
       "      <td>12500</td>\n",
       "      <td>98</td>\n",
       "      <td>1</td>\n",
       "    </tr>\n",
       "    <tr>\n",
       "      <th>1</th>\n",
       "      <td>0</td>\n",
       "      <td>13</td>\n",
       "      <td>3250</td>\n",
       "      <td>28</td>\n",
       "      <td>1</td>\n",
       "    </tr>\n",
       "    <tr>\n",
       "      <th>2</th>\n",
       "      <td>1</td>\n",
       "      <td>16</td>\n",
       "      <td>4000</td>\n",
       "      <td>35</td>\n",
       "      <td>1</td>\n",
       "    </tr>\n",
       "    <tr>\n",
       "      <th>3</th>\n",
       "      <td>2</td>\n",
       "      <td>20</td>\n",
       "      <td>5000</td>\n",
       "      <td>45</td>\n",
       "      <td>1</td>\n",
       "    </tr>\n",
       "    <tr>\n",
       "      <th>4</th>\n",
       "      <td>1</td>\n",
       "      <td>24</td>\n",
       "      <td>6000</td>\n",
       "      <td>77</td>\n",
       "      <td>0</td>\n",
       "    </tr>\n",
       "  </tbody>\n",
       "</table>\n",
       "</div>"
      ],
      "text/plain": [
       "   Recency  Frequency  Monetary  Time  donated_blood\n",
       "0        2         50     12500    98              1\n",
       "1        0         13      3250    28              1\n",
       "2        1         16      4000    35              1\n",
       "3        2         20      5000    45              1\n",
       "4        1         24      6000    77              0"
      ]
     },
     "execution_count": 3,
     "metadata": {},
     "output_type": "execute_result"
    }
   ],
   "source": [
    "dataframe = pd.read_csv('blood_transfusion.csv')\n",
    "dataframe.head()"
   ]
  },
  {
   "cell_type": "markdown",
   "metadata": {},
   "source": [
    "seperating data of class 1 and class 0"
   ]
  },
  {
   "cell_type": "code",
   "execution_count": 4,
   "metadata": {},
   "outputs": [],
   "source": [
    "positive = dataframe.loc[dataframe['donated_blood']==1]\n",
    "negative = dataframe.loc[dataframe['donated_blood']==0]\n",
    "number_of_rows_pos = positive.shape[0]\n",
    "number_of_rows_neg = negative.shape[0]"
   ]
  },
  {
   "cell_type": "markdown",
   "metadata": {},
   "source": [
    "creating train and test data by selecting first 20% of the positive and negative classes in the file as the test set and the rest as the training set."
   ]
  },
  {
   "cell_type": "code",
   "execution_count": 5,
   "metadata": {},
   "outputs": [],
   "source": [
    "pos_split = math.ceil(number_of_rows_pos*0.2)\n",
    "neg_split = math.ceil(number_of_rows_neg*0.2)\n",
    "pos = np.split(positive,[pos_split],axis=0)\n",
    "neg = np.split(negative,[neg_split],axis=0)\n",
    "positive_test = pos[0]\n",
    "positive_train = pos[1]\n",
    "negative_test = neg[0]\n",
    "negative_train = neg[1]\n",
    "testing_dataframe = pd.concat([positive_test,negative_test])\n",
    "training_dataframe = pd.concat([positive_train,negative_train])"
   ]
  },
  {
   "cell_type": "code",
   "execution_count": 6,
   "metadata": {},
   "outputs": [],
   "source": [
    "semi = training_dataframe"
   ]
  },
  {
   "cell_type": "markdown",
   "metadata": {},
   "source": [
    "(b) Supervised Learning: Train an L1-penalized SVM to classify the data. Use 5 fold cross validation to choose the penalty parameter. Use normalized data. Report the accuracy, AUC, ROC, and confusion matrix for both training and test sets."
   ]
  },
  {
   "cell_type": "markdown",
   "metadata": {},
   "source": [
    "seperating data into train data, train labels, test data and test labels"
   ]
  },
  {
   "cell_type": "code",
   "execution_count": 7,
   "metadata": {},
   "outputs": [],
   "source": [
    "dfs = np.split(training_dataframe,[-1],axis=1)\n",
    "training_dataframe = dfs[0]\n",
    "training_dataframe_label = dfs[1]\n",
    "dfs1 = np.split(testing_dataframe,[-1],axis=1)\n",
    "testing_dataframe = dfs1[0]\n",
    "testing_dataframe_label = dfs1[1]"
   ]
  },
  {
   "cell_type": "markdown",
   "metadata": {},
   "source": [
    "normalizing data using MinMaxScalar"
   ]
  },
  {
   "cell_type": "code",
   "execution_count": 8,
   "metadata": {},
   "outputs": [],
   "source": [
    "#normalizing data using MinMaxScalar\n",
    "from sklearn.preprocessing import MinMaxScaler\n",
    "scalar = MinMaxScaler()\n",
    "new_train = scalar.fit_transform(training_dataframe)\n",
    "new_test = scalar.fit_transform(testing_dataframe)\n",
    "scalar_training_dataframe = pd.DataFrame(new_train,columns=training_dataframe.columns)\n",
    "scalar_testing_dataframe = pd.DataFrame(new_test,columns=testing_dataframe.columns)"
   ]
  },
  {
   "cell_type": "markdown",
   "metadata": {},
   "source": [
    "normalizing data using StandardScalar"
   ]
  },
  {
   "cell_type": "code",
   "execution_count": 9,
   "metadata": {},
   "outputs": [],
   "source": [
    "from sklearn.preprocessing import StandardScaler\n",
    "stdscr = StandardScaler()\n",
    "new_tr = stdscr.fit_transform(training_dataframe)\n",
    "new_ts = stdscr.fit_transform(testing_dataframe)\n",
    "std_training_dataframe = pd.DataFrame(new_tr,columns=training_dataframe.columns)\n",
    "std_testing_dataframe = pd.DataFrame(new_ts,columns=training_dataframe.columns)"
   ]
  },
  {
   "cell_type": "code",
   "execution_count": 10,
   "metadata": {
    "scrolled": false
   },
   "outputs": [
    {
     "data": {
      "text/html": [
       "<div>\n",
       "<style scoped>\n",
       "    .dataframe tbody tr th:only-of-type {\n",
       "        vertical-align: middle;\n",
       "    }\n",
       "\n",
       "    .dataframe tbody tr th {\n",
       "        vertical-align: top;\n",
       "    }\n",
       "\n",
       "    .dataframe thead th {\n",
       "        text-align: right;\n",
       "    }\n",
       "</style>\n",
       "<table border=\"1\" class=\"dataframe\">\n",
       "  <thead>\n",
       "    <tr style=\"text-align: right;\">\n",
       "      <th></th>\n",
       "      <th>Recency</th>\n",
       "      <th>Frequency</th>\n",
       "      <th>Monetary</th>\n",
       "      <th>Time</th>\n",
       "    </tr>\n",
       "  </thead>\n",
       "  <tbody>\n",
       "    <tr>\n",
       "      <th>0</th>\n",
       "      <td>0.027027</td>\n",
       "      <td>0.162791</td>\n",
       "      <td>0.162791</td>\n",
       "      <td>0.343750</td>\n",
       "    </tr>\n",
       "    <tr>\n",
       "      <th>1</th>\n",
       "      <td>0.054054</td>\n",
       "      <td>0.093023</td>\n",
       "      <td>0.093023</td>\n",
       "      <td>0.145833</td>\n",
       "    </tr>\n",
       "    <tr>\n",
       "      <th>2</th>\n",
       "      <td>0.027027</td>\n",
       "      <td>0.046512</td>\n",
       "      <td>0.046512</td>\n",
       "      <td>0.072917</td>\n",
       "    </tr>\n",
       "    <tr>\n",
       "      <th>3</th>\n",
       "      <td>0.027027</td>\n",
       "      <td>0.069767</td>\n",
       "      <td>0.069767</td>\n",
       "      <td>0.125000</td>\n",
       "    </tr>\n",
       "    <tr>\n",
       "      <th>4</th>\n",
       "      <td>0.054054</td>\n",
       "      <td>0.372093</td>\n",
       "      <td>0.372093</td>\n",
       "      <td>0.718750</td>\n",
       "    </tr>\n",
       "  </tbody>\n",
       "</table>\n",
       "</div>"
      ],
      "text/plain": [
       "    Recency  Frequency  Monetary      Time\n",
       "0  0.027027   0.162791  0.162791  0.343750\n",
       "1  0.054054   0.093023  0.093023  0.145833\n",
       "2  0.027027   0.046512  0.046512  0.072917\n",
       "3  0.027027   0.069767  0.069767  0.125000\n",
       "4  0.054054   0.372093  0.372093  0.718750"
      ]
     },
     "execution_count": 10,
     "metadata": {},
     "output_type": "execute_result"
    }
   ],
   "source": [
    "scalar_training_dataframe.head()"
   ]
  },
  {
   "cell_type": "code",
   "execution_count": 11,
   "metadata": {},
   "outputs": [
    {
     "data": {
      "text/html": [
       "<div>\n",
       "<style scoped>\n",
       "    .dataframe tbody tr th:only-of-type {\n",
       "        vertical-align: middle;\n",
       "    }\n",
       "\n",
       "    .dataframe tbody tr th {\n",
       "        vertical-align: top;\n",
       "    }\n",
       "\n",
       "    .dataframe thead th {\n",
       "        text-align: right;\n",
       "    }\n",
       "</style>\n",
       "<table border=\"1\" class=\"dataframe\">\n",
       "  <thead>\n",
       "    <tr style=\"text-align: right;\">\n",
       "      <th></th>\n",
       "      <th>Recency</th>\n",
       "      <th>Frequency</th>\n",
       "      <th>Monetary</th>\n",
       "      <th>Time</th>\n",
       "    </tr>\n",
       "  </thead>\n",
       "  <tbody>\n",
       "    <tr>\n",
       "      <th>0</th>\n",
       "      <td>0.153846</td>\n",
       "      <td>1.000000</td>\n",
       "      <td>1.000000</td>\n",
       "      <td>1.000000</td>\n",
       "    </tr>\n",
       "    <tr>\n",
       "      <th>1</th>\n",
       "      <td>0.000000</td>\n",
       "      <td>0.244898</td>\n",
       "      <td>0.244898</td>\n",
       "      <td>0.270833</td>\n",
       "    </tr>\n",
       "    <tr>\n",
       "      <th>2</th>\n",
       "      <td>0.076923</td>\n",
       "      <td>0.306122</td>\n",
       "      <td>0.306122</td>\n",
       "      <td>0.343750</td>\n",
       "    </tr>\n",
       "    <tr>\n",
       "      <th>3</th>\n",
       "      <td>0.153846</td>\n",
       "      <td>0.387755</td>\n",
       "      <td>0.387755</td>\n",
       "      <td>0.447917</td>\n",
       "    </tr>\n",
       "    <tr>\n",
       "      <th>4</th>\n",
       "      <td>0.153846</td>\n",
       "      <td>0.122449</td>\n",
       "      <td>0.122449</td>\n",
       "      <td>0.125000</td>\n",
       "    </tr>\n",
       "  </tbody>\n",
       "</table>\n",
       "</div>"
      ],
      "text/plain": [
       "    Recency  Frequency  Monetary      Time\n",
       "0  0.153846   1.000000  1.000000  1.000000\n",
       "1  0.000000   0.244898  0.244898  0.270833\n",
       "2  0.076923   0.306122  0.306122  0.343750\n",
       "3  0.153846   0.387755  0.387755  0.447917\n",
       "4  0.153846   0.122449  0.122449  0.125000"
      ]
     },
     "execution_count": 11,
     "metadata": {},
     "output_type": "execute_result"
    }
   ],
   "source": [
    "scalar_testing_dataframe.head()"
   ]
  },
  {
   "cell_type": "markdown",
   "metadata": {},
   "source": [
    "normalizing data using normalize"
   ]
  },
  {
   "cell_type": "code",
   "execution_count": 12,
   "metadata": {},
   "outputs": [],
   "source": [
    "normalized_training_dataframe = preprocessing.normalize(training_dataframe)\n",
    "normalized_testing_dataframe = preprocessing.normalize(testing_dataframe)\n",
    "normalized_training_dataframe=pd.DataFrame(normalized_training_dataframe,columns=training_dataframe.columns)\n",
    "normalized_testing_dataframe=pd.DataFrame(normalized_testing_dataframe,columns=testing_dataframe.columns)"
   ]
  },
  {
   "cell_type": "code",
   "execution_count": 13,
   "metadata": {
    "scrolled": true
   },
   "outputs": [
    {
     "data": {
      "text/html": [
       "<div>\n",
       "<style scoped>\n",
       "    .dataframe tbody tr th:only-of-type {\n",
       "        vertical-align: middle;\n",
       "    }\n",
       "\n",
       "    .dataframe tbody tr th {\n",
       "        vertical-align: top;\n",
       "    }\n",
       "\n",
       "    .dataframe thead th {\n",
       "        text-align: right;\n",
       "    }\n",
       "</style>\n",
       "<table border=\"1\" class=\"dataframe\">\n",
       "  <thead>\n",
       "    <tr style=\"text-align: right;\">\n",
       "      <th></th>\n",
       "      <th>Recency</th>\n",
       "      <th>Frequency</th>\n",
       "      <th>Monetary</th>\n",
       "      <th>Time</th>\n",
       "    </tr>\n",
       "  </thead>\n",
       "  <tbody>\n",
       "    <tr>\n",
       "      <th>0</th>\n",
       "      <td>0.001000</td>\n",
       "      <td>0.003999</td>\n",
       "      <td>0.999838</td>\n",
       "      <td>0.017497</td>\n",
       "    </tr>\n",
       "    <tr>\n",
       "      <th>1</th>\n",
       "      <td>0.003200</td>\n",
       "      <td>0.004000</td>\n",
       "      <td>0.999905</td>\n",
       "      <td>0.012799</td>\n",
       "    </tr>\n",
       "    <tr>\n",
       "      <th>2</th>\n",
       "      <td>0.002666</td>\n",
       "      <td>0.004000</td>\n",
       "      <td>0.999916</td>\n",
       "      <td>0.011999</td>\n",
       "    </tr>\n",
       "    <tr>\n",
       "      <th>3</th>\n",
       "      <td>0.002000</td>\n",
       "      <td>0.004000</td>\n",
       "      <td>0.999892</td>\n",
       "      <td>0.013998</td>\n",
       "    </tr>\n",
       "    <tr>\n",
       "      <th>4</th>\n",
       "      <td>0.000941</td>\n",
       "      <td>0.003999</td>\n",
       "      <td>0.999852</td>\n",
       "      <td>0.016703</td>\n",
       "    </tr>\n",
       "  </tbody>\n",
       "</table>\n",
       "</div>"
      ],
      "text/plain": [
       "    Recency  Frequency  Monetary      Time\n",
       "0  0.001000   0.003999  0.999838  0.017497\n",
       "1  0.003200   0.004000  0.999905  0.012799\n",
       "2  0.002666   0.004000  0.999916  0.011999\n",
       "3  0.002000   0.004000  0.999892  0.013998\n",
       "4  0.000941   0.003999  0.999852  0.016703"
      ]
     },
     "execution_count": 13,
     "metadata": {},
     "output_type": "execute_result"
    }
   ],
   "source": [
    "normalized_training_dataframe.head()"
   ]
  },
  {
   "cell_type": "code",
   "execution_count": 14,
   "metadata": {},
   "outputs": [
    {
     "data": {
      "text/html": [
       "<div>\n",
       "<style scoped>\n",
       "    .dataframe tbody tr th:only-of-type {\n",
       "        vertical-align: middle;\n",
       "    }\n",
       "\n",
       "    .dataframe tbody tr th {\n",
       "        vertical-align: top;\n",
       "    }\n",
       "\n",
       "    .dataframe thead th {\n",
       "        text-align: right;\n",
       "    }\n",
       "</style>\n",
       "<table border=\"1\" class=\"dataframe\">\n",
       "  <thead>\n",
       "    <tr style=\"text-align: right;\">\n",
       "      <th></th>\n",
       "      <th>Recency</th>\n",
       "      <th>Frequency</th>\n",
       "      <th>Monetary</th>\n",
       "      <th>Time</th>\n",
       "    </tr>\n",
       "  </thead>\n",
       "  <tbody>\n",
       "    <tr>\n",
       "      <th>0</th>\n",
       "      <td>0.000160</td>\n",
       "      <td>0.004</td>\n",
       "      <td>0.999961</td>\n",
       "      <td>0.007840</td>\n",
       "    </tr>\n",
       "    <tr>\n",
       "      <th>1</th>\n",
       "      <td>0.000000</td>\n",
       "      <td>0.004</td>\n",
       "      <td>0.999955</td>\n",
       "      <td>0.008615</td>\n",
       "    </tr>\n",
       "    <tr>\n",
       "      <th>2</th>\n",
       "      <td>0.000250</td>\n",
       "      <td>0.004</td>\n",
       "      <td>0.999954</td>\n",
       "      <td>0.008750</td>\n",
       "    </tr>\n",
       "    <tr>\n",
       "      <th>3</th>\n",
       "      <td>0.000400</td>\n",
       "      <td>0.004</td>\n",
       "      <td>0.999951</td>\n",
       "      <td>0.009000</td>\n",
       "    </tr>\n",
       "    <tr>\n",
       "      <th>4</th>\n",
       "      <td>0.001143</td>\n",
       "      <td>0.004</td>\n",
       "      <td>0.999959</td>\n",
       "      <td>0.008000</td>\n",
       "    </tr>\n",
       "  </tbody>\n",
       "</table>\n",
       "</div>"
      ],
      "text/plain": [
       "    Recency  Frequency  Monetary      Time\n",
       "0  0.000160      0.004  0.999961  0.007840\n",
       "1  0.000000      0.004  0.999955  0.008615\n",
       "2  0.000250      0.004  0.999954  0.008750\n",
       "3  0.000400      0.004  0.999951  0.009000\n",
       "4  0.001143      0.004  0.999959  0.008000"
      ]
     },
     "execution_count": 14,
     "metadata": {},
     "output_type": "execute_result"
    }
   ],
   "source": [
    "normalized_testing_dataframe.head()"
   ]
  },
  {
   "cell_type": "code",
   "execution_count": 15,
   "metadata": {},
   "outputs": [],
   "source": [
    "index_train = list(range(0,598))\n",
    "index_test = list(range(0,150))\n",
    "scalar_training_dataframe_label = training_dataframe_label.set_index([index_train])\n",
    "scalar_testing_dataframe_label = testing_dataframe_label.set_index([index_test])"
   ]
  },
  {
   "cell_type": "code",
   "execution_count": 16,
   "metadata": {},
   "outputs": [],
   "source": [
    "total = scalar_training_dataframe_label.values\n",
    "total_df = scalar_training_dataframe\n",
    "total_df['blood'] = total\n",
    "total_df=total_df.sample(frac=1)"
   ]
  },
  {
   "cell_type": "code",
   "execution_count": 17,
   "metadata": {},
   "outputs": [],
   "source": [
    "total_test = scalar_testing_dataframe_label.values\n",
    "total_df_test = scalar_testing_dataframe\n",
    "total_df_test['blood'] = total_test\n",
    "total_df_test=total_df_test.sample(frac=1)"
   ]
  },
  {
   "cell_type": "markdown",
   "metadata": {},
   "source": [
    "training L1 penalized SVM and choosing the penalty parameter using 5 fold cross validation"
   ]
  },
  {
   "cell_type": "code",
   "execution_count": 18,
   "metadata": {},
   "outputs": [
    {
     "name": "stdout",
     "output_type": "stream",
     "text": [
      "{'C': 1}\n"
     ]
    }
   ],
   "source": [
    "classifier=LinearSVC(penalty='l1', dual=False)\n",
    "penalty_parameters={'C':[0.001,0.01,0.1,1,10,100,500,1000]}\n",
    "cross_val=GridSearchCV(classifier,penalty_parameters,cv=5)\n",
    "cross_val.fit(total_df.loc[:,:'Time'],total_df['blood'])\n",
    "print(cross_val.best_params_)\n",
    "prediction=cross_val.predict(total_df_test.loc[:,:'Time'])"
   ]
  },
  {
   "cell_type": "code",
   "execution_count": 19,
   "metadata": {},
   "outputs": [
    {
     "data": {
      "text/plain": [
       "array([0, 0, 0, 0, 0, 0, 0, 0, 0, 0, 0, 0, 0, 0, 0, 0, 0, 0, 0, 0, 0, 0,\n",
       "       0, 0, 0, 0, 0, 0, 0, 0, 0, 0, 0, 0, 0, 0, 0, 0, 1, 0, 0, 0, 0, 0,\n",
       "       0, 0, 0, 0, 0, 0, 0, 0, 0, 0, 0, 0, 0, 0, 0, 0, 0, 0, 0, 0, 0, 0,\n",
       "       0, 0, 0, 0, 0, 1, 0, 0, 0, 0, 0, 0, 0, 0, 0, 0, 0, 0, 0, 0, 0, 0,\n",
       "       0, 0, 0, 0, 0, 0, 0, 0, 0, 0, 1, 0, 0, 0, 0, 0, 0, 0, 0, 0, 0, 0,\n",
       "       0, 0, 0, 1, 0, 0, 0, 0, 0, 0, 0, 0, 0, 0, 0, 0, 0, 0, 0, 1, 0, 0,\n",
       "       0, 0, 0, 0, 0, 0, 0, 0, 0, 0, 0, 0, 0, 0, 0, 0, 0, 0])"
      ]
     },
     "execution_count": 19,
     "metadata": {},
     "output_type": "execute_result"
    }
   ],
   "source": [
    "prediction"
   ]
  },
  {
   "cell_type": "markdown",
   "metadata": {},
   "source": [
    "calculating accuracy "
   ]
  },
  {
   "cell_type": "code",
   "execution_count": 20,
   "metadata": {},
   "outputs": [
    {
     "name": "stdout",
     "output_type": "stream",
     "text": [
      "Accuracy for Supervised learning using L1 penalized SVM:  0.7666666666666667\n"
     ]
    }
   ],
   "source": [
    "acc = accuracy_score(total_df_test['blood'],prediction)\n",
    "print(\"Accuracy for Supervised learning using L1 penalized SVM: \",acc)"
   ]
  },
  {
   "cell_type": "code",
   "execution_count": 21,
   "metadata": {},
   "outputs": [],
   "source": [
    "from sklearn.model_selection import KFold\n",
    "from sklearn.metrics import roc_curve, auc\n",
    "from sklearn.metrics import confusion_matrix\n",
    "import itertools"
   ]
  },
  {
   "cell_type": "code",
   "execution_count": 31,
   "metadata": {},
   "outputs": [],
   "source": [
    "def plotConfusionMatrix(cm):\n",
    "    class_names = np.array([0,1])\n",
    "\n",
    "    def plot_confusion_matrix(cm, classes,\n",
    "                              normalize=False,\n",
    "                              title='Confusion matrix',\n",
    "                              cmap=plt.cm.Blues):\n",
    "        plt.imshow(cm, interpolation='nearest', cmap=cmap)\n",
    "        plt.title(title)\n",
    "        plt.colorbar()\n",
    "        tick_marks = np.arange(len(classes))\n",
    "        plt.xticks(tick_marks, classes, rotation=45)\n",
    "        plt.yticks(tick_marks, classes)\n",
    "\n",
    "        fmt = '.2f' if normalize else 'd'\n",
    "        thresh = cm.max() / 2.\n",
    "        for i, j in itertools.product(range(cm.shape[0]), range(cm.shape[1])):\n",
    "            plt.text(j, i, format(cm[i, j], fmt),\n",
    "                     horizontalalignment=\"center\",\n",
    "                     color=\"white\" if cm[i, j] > thresh else \"black\")\n",
    "\n",
    "        plt.tight_layout()\n",
    "        plt.ylabel('True label')\n",
    "        plt.xlabel('Predicted label')\n",
    "\n",
    "    # Compute confusion matrix\n",
    "    cnf_matrix = cm\n",
    "    np.set_printoptions(precision=2)\n",
    "\n",
    "    # Plot non-normalized confusion matrix\n",
    "    plt.figure()\n",
    "    plot_confusion_matrix(cnf_matrix, classes=class_names,\n",
    "                          title='Confusion matrix')\n",
    "\n",
    "    plt.show()"
   ]
  },
  {
   "cell_type": "markdown",
   "metadata": {},
   "source": [
    "Confusion Matrix for Supervised Learning"
   ]
  },
  {
   "cell_type": "code",
   "execution_count": 32,
   "metadata": {},
   "outputs": [
    {
     "name": "stdout",
     "output_type": "stream",
     "text": [
      "Confusion Matrix for Supervised Learning\n"
     ]
    },
    {
     "data": {
      "image/png": "[encoded data removed]",
      "text/plain": [
       "<matplotlib.figure.Figure at 0x1a1a3f1278>"
      ]
     },
     "metadata": {},
     "output_type": "display_data"
    }
   ],
   "source": [
    "cm=confusion_matrix(testing_dataframe_label,prediction)\n",
    "print(\"Confusion Matrix for Supervised Learning\")\n",
    "plotConfusionMatrix(cm)\n",
    "# plotROC(train_dfs)"
   ]
  },
  {
   "cell_type": "code",
   "execution_count": 28,
   "metadata": {},
   "outputs": [],
   "source": [
    "def plot_roc_curve(y_true, y_predict_scores, charname):\n",
    "    # Compute ROC curve and ROC area for each class\n",
    "    fpr = dict()\n",
    "    tpr = dict()\n",
    "    roc_auc = dict()\n",
    "\n",
    "    #for i in range(n_classes):\n",
    "    fpr[2], tpr[2], _ = roc_curve(y_true, y_predict_scores, drop_intermediate=False)\n",
    "    roc_auc[2] = auc(fpr[2], tpr[2])\n",
    "\n",
    "    # Compute micro-average ROC curve and ROC area\n",
    "    fpr[\"micro\"], tpr[\"micro\"], _ = roc_curve(y_true.ravel(), y_predict_scores.ravel())\n",
    "    roc_auc[\"micro\"] = auc(fpr[\"micro\"], tpr[\"micro\"])\n",
    "\n",
    "    plt.figure()\n",
    "    lw = 2\n",
    "    plt.plot(fpr[2], tpr[2], color='red',\n",
    "             lw=lw, label='ROC curve (area = %0.2f)' % roc_auc[2])\n",
    "    plt.plot([0, 1], [0, 1], color='navy', lw=lw, linestyle='--')\n",
    "    plt.xlim([0.0, 1.0])\n",
    "    plt.ylim([0.0, 1.05])\n",
    "    plt.xlabel('False Positive Rate')\n",
    "    plt.ylabel('True Positive Rate')\n",
    "    plt.title(charname)\n",
    "    plt.legend(loc=\"lower right\")\n",
    "    plt.savefig(charname)"
   ]
  },
  {
   "cell_type": "markdown",
   "metadata": {},
   "source": [
    "plotting ROC, AUC curve for Supervised learning"
   ]
  },
  {
   "cell_type": "code",
   "execution_count": 30,
   "metadata": {},
   "outputs": [
    {
     "data": {
      "image/png": "[encoded data removed]",
      "text/plain": [
       "<matplotlib.figure.Figure at 0x1a19e49198>"
      ]
     },
     "metadata": {},
     "output_type": "display_data"
    }
   ],
   "source": [
    "plot_roc_curve(total_df_test['blood'],cross_val.decision_function(total_df_test.loc[:,:'Time']),'ROC Curve Supervised Learning')\n",
    "plt.show()"
   ]
  },
  {
   "cell_type": "markdown",
   "metadata": {},
   "source": [
    "(c) Semi-Supervised Learning/ Self-training: select 50% of the positive class along with 50% of the negative class in the training set as labeled data and the rest as unlabelled data. You can select them randomly."
   ]
  },
  {
   "cell_type": "code",
   "execution_count": 33,
   "metadata": {},
   "outputs": [
    {
     "data": {
      "text/html": [
       "<div>\n",
       "<style scoped>\n",
       "    .dataframe tbody tr th:only-of-type {\n",
       "        vertical-align: middle;\n",
       "    }\n",
       "\n",
       "    .dataframe tbody tr th {\n",
       "        vertical-align: top;\n",
       "    }\n",
       "\n",
       "    .dataframe thead th {\n",
       "        text-align: right;\n",
       "    }\n",
       "</style>\n",
       "<table border=\"1\" class=\"dataframe\">\n",
       "  <thead>\n",
       "    <tr style=\"text-align: right;\">\n",
       "      <th></th>\n",
       "      <th>Recency</th>\n",
       "      <th>Frequency</th>\n",
       "      <th>Monetary</th>\n",
       "      <th>Time</th>\n",
       "      <th>donated_blood</th>\n",
       "    </tr>\n",
       "  </thead>\n",
       "  <tbody>\n",
       "    <tr>\n",
       "      <th>61</th>\n",
       "      <td>2</td>\n",
       "      <td>8</td>\n",
       "      <td>2000</td>\n",
       "      <td>35</td>\n",
       "      <td>1</td>\n",
       "    </tr>\n",
       "    <tr>\n",
       "      <th>63</th>\n",
       "      <td>4</td>\n",
       "      <td>5</td>\n",
       "      <td>1250</td>\n",
       "      <td>16</td>\n",
       "      <td>1</td>\n",
       "    </tr>\n",
       "    <tr>\n",
       "      <th>64</th>\n",
       "      <td>2</td>\n",
       "      <td>3</td>\n",
       "      <td>750</td>\n",
       "      <td>9</td>\n",
       "      <td>1</td>\n",
       "    </tr>\n",
       "    <tr>\n",
       "      <th>66</th>\n",
       "      <td>2</td>\n",
       "      <td>4</td>\n",
       "      <td>1000</td>\n",
       "      <td>14</td>\n",
       "      <td>1</td>\n",
       "    </tr>\n",
       "    <tr>\n",
       "      <th>72</th>\n",
       "      <td>4</td>\n",
       "      <td>17</td>\n",
       "      <td>4250</td>\n",
       "      <td>71</td>\n",
       "      <td>1</td>\n",
       "    </tr>\n",
       "  </tbody>\n",
       "</table>\n",
       "</div>"
      ],
      "text/plain": [
       "    Recency  Frequency  Monetary  Time  donated_blood\n",
       "61        2          8      2000    35              1\n",
       "63        4          5      1250    16              1\n",
       "64        2          3       750     9              1\n",
       "66        2          4      1000    14              1\n",
       "72        4         17      4250    71              1"
      ]
     },
     "execution_count": 33,
     "metadata": {},
     "output_type": "execute_result"
    }
   ],
   "source": [
    "semi.head()"
   ]
  },
  {
   "cell_type": "code",
   "execution_count": 34,
   "metadata": {},
   "outputs": [],
   "source": [
    "semi_pos = semi.loc[semi['donated_blood']==1]\n",
    "semi_neg = semi.loc[semi['donated_blood']==0]"
   ]
  },
  {
   "cell_type": "markdown",
   "metadata": {},
   "source": [
    "creating labelled and unlabelled data as specified in the question."
   ]
  },
  {
   "cell_type": "code",
   "execution_count": 35,
   "metadata": {},
   "outputs": [],
   "source": [
    "semi_pos_labelled = semi_pos.sample(frac=0.5)\n",
    "semi_pos_unlabelled = semi_pos.loc[~semi_pos.index.isin(semi_pos_labelled.index)]\n",
    "semi_neg_labelled = semi_neg.sample(frac=0.5)\n",
    "semi_neg_unlabelled = semi_neg.loc[~semi_neg.index.isin(semi_neg_labelled.index)]\n",
    "frames = [semi_pos_labelled,semi_neg_labelled]\n",
    "semi_pos_train_labelled = pd.concat(frames)\n",
    "frames = [semi_pos_unlabelled,semi_neg_unlabelled]\n",
    "semi_pos_train_unlabelled = pd.concat(frames)"
   ]
  },
  {
   "cell_type": "code",
   "execution_count": 36,
   "metadata": {},
   "outputs": [],
   "source": [
    "dfs = np.split(semi_pos_train_labelled,[-1],axis=1)\n",
    "labelled_predictors = dfs[0]\n",
    "labelled_target = dfs[1]\n",
    "dfs = np.split(semi_pos_train_unlabelled,[-1],axis=1)\n",
    "unlabelled_predictors = dfs[0]\n",
    "unlabelled_target = dfs[1]"
   ]
  },
  {
   "cell_type": "code",
   "execution_count": 37,
   "metadata": {},
   "outputs": [],
   "source": [
    "semi_pos_train_labelled = semi_pos_train_labelled.sample(frac = 1)\n",
    "semi_pos_train_unlabelled = semi_pos_train_unlabelled.sample(frac = 1)"
   ]
  },
  {
   "cell_type": "code",
   "execution_count": 38,
   "metadata": {},
   "outputs": [],
   "source": [
    "scalar1 = MinMaxScaler()\n",
    "new_train1 = scalar.fit_transform(labelled_predictors)\n",
    "new_test1 = scalar.fit_transform(unlabelled_predictors)\n",
    "scalar_labelled_dataframe = pd.DataFrame(new_train1,columns=labelled_predictors.columns)\n",
    "scalar_unlabelled_dataframe = pd.DataFrame(new_test1,columns=unlabelled_predictors.columns)"
   ]
  },
  {
   "cell_type": "code",
   "execution_count": 39,
   "metadata": {},
   "outputs": [],
   "source": [
    "total1 = labelled_target.values\n",
    "total_df1 = scalar_labelled_dataframe\n",
    "total_df1['blood'] = total1\n",
    "total_df1=total_df1.sample(frac=1)"
   ]
  },
  {
   "cell_type": "code",
   "execution_count": 40,
   "metadata": {},
   "outputs": [],
   "source": [
    "total2 = unlabelled_target.values\n",
    "total_df1_un = scalar_unlabelled_dataframe\n",
    "total_df1_un['blood'] = total2\n",
    "total_df1_un=total_df1_un.sample(frac=1)"
   ]
  },
  {
   "cell_type": "code",
   "execution_count": 41,
   "metadata": {},
   "outputs": [],
   "source": [
    "index=list(range(0,299))\n",
    "total_df1 = total_df1.set_index([index])\n",
    "total_df1_un = total_df1_un.set_index([index])"
   ]
  },
  {
   "cell_type": "code",
   "execution_count": 42,
   "metadata": {},
   "outputs": [],
   "source": [
    "sp = np.split(total_df1,[-1],axis=1)\n",
    "sp1 = np.split(total_df1_un,[-1],axis=1)\n",
    "normalized_labelled = sp[0]\n",
    "labelled_target=sp[1]\n",
    "normalized_unlabelled = sp1[0]\n",
    "unlabelled_target = sp1[1]"
   ]
  },
  {
   "cell_type": "markdown",
   "metadata": {},
   "source": [
    "i. Train an L1-penalized SVM to classify the labeled data. Choose the penalty parameter using 5 fold cross validation."
   ]
  },
  {
   "cell_type": "markdown",
   "metadata": {},
   "source": [
    "Training SVM using L1-penalized data and choosing penalty parameter using 5 fold cross validation."
   ]
  },
  {
   "cell_type": "code",
   "execution_count": 48,
   "metadata": {},
   "outputs": [
    {
     "name": "stdout",
     "output_type": "stream",
     "text": [
      "{'C': 10}\n"
     ]
    },
    {
     "data": {
      "text/plain": [
       "array([0., 0., 0., 0., 0., 0., 0., 0., 0., 0., 0., 1., 0., 0., 0., 0., 0.,\n",
       "       0., 0., 0., 0., 0., 0., 0., 0., 0., 0., 0., 0., 0., 0., 0., 0., 1.,\n",
       "       0., 0., 0., 0., 0., 0., 0., 0., 0., 0., 0., 0., 0., 0., 0., 0., 0.,\n",
       "       0., 0., 0., 0., 0., 0., 0., 0., 0., 0., 0., 0., 0., 0., 0., 0., 0.,\n",
       "       0., 0., 0., 0., 0., 0., 0., 0., 0., 0., 0., 0., 0., 0., 0., 0., 0.,\n",
       "       0., 0., 0., 0., 1., 0., 0., 0., 0., 0., 0., 0., 0., 0., 0., 0., 0.,\n",
       "       0., 0., 0., 0., 0., 0., 0., 0., 0., 0., 0., 0., 0., 0., 0., 0., 0.,\n",
       "       0., 1., 0., 0., 0., 0., 0., 0., 0., 0., 0., 1., 0., 1., 0., 0., 0.,\n",
       "       0., 0., 0., 0., 0., 0., 0., 0., 1., 0., 0., 0., 0., 0., 0., 0., 0.,\n",
       "       0., 0., 0., 0., 0., 0., 0., 0., 0., 1., 0., 0., 0., 0., 0., 0., 0.,\n",
       "       1., 0., 0., 0., 0., 0., 0., 0., 0., 0., 0., 0., 0., 0., 0., 0., 0.,\n",
       "       0., 0., 0., 0., 0., 0., 0., 0., 0., 0., 0., 0., 1., 0., 1., 0., 0.,\n",
       "       0., 0., 0., 0., 0., 0., 0., 0., 0., 0., 0., 0., 0., 0., 0., 0., 0.,\n",
       "       0., 0., 0., 0., 0., 1., 0., 0., 0., 0., 0., 0., 0., 1., 0., 0., 0.,\n",
       "       0., 0., 0., 0., 0., 0., 0., 0., 0., 0., 0., 0., 0., 0., 0., 0., 0.,\n",
       "       0., 0., 0., 0., 0., 0., 0., 0., 0., 0., 0., 0., 0., 0., 0., 0., 0.,\n",
       "       0., 0., 0., 0., 0., 0., 0., 1., 0., 0., 0., 0., 0., 0., 0., 0., 0.,\n",
       "       0., 1., 0., 0., 0., 0., 0., 0., 0., 0.])"
      ]
     },
     "execution_count": 48,
     "metadata": {},
     "output_type": "execute_result"
    }
   ],
   "source": [
    "classifier=LinearSVC(penalty='l1', dual=False)\n",
    "penalty_parameters={'C':[0.08,0.008,0.8,5,10,45,345,764,1000]}\n",
    "cross_val=GridSearchCV(classifier,penalty_parameters,cv=5)\n",
    "cross_val.fit(normalized_labelled,labelled_target)\n",
    "pred = cross_val.predict(normalized_unlabelled)\n",
    "print(cross_val.best_params_)\n",
    "pred"
   ]
  },
  {
   "cell_type": "markdown",
   "metadata": {},
   "source": [
    "ii. Find the unlabeled data point that is the closest to the decision boundary of the SVM. Let the SVM label it (ignore its true label), and add it to the labeled data, and retrain the SVM. Continue this process until all unlabeled data are used. Test the final SVM on the test data and report the accuracy, AUC, ROC, and confusion matrix for the test set."
   ]
  },
  {
   "cell_type": "code",
   "execution_count": 49,
   "metadata": {},
   "outputs": [],
   "source": [
    "best_parameters = []"
   ]
  },
  {
   "cell_type": "code",
   "execution_count": 50,
   "metadata": {},
   "outputs": [],
   "source": [
    "norm_lab_target = labelled_target\n",
    "norm_unlab_target = unlabelled_target\n",
    "true_labels = labelled_target"
   ]
  },
  {
   "cell_type": "markdown",
   "metadata": {},
   "source": [
    "adding the unlabelled data to labelled data"
   ]
  },
  {
   "cell_type": "code",
   "execution_count": 51,
   "metadata": {},
   "outputs": [],
   "source": [
    "length = normalized_unlabelled.shape[0]\n",
    "for i in range(0,length):\n",
    "    cross_val.fit(normalized_labelled,norm_lab_target)\n",
    "    prediction = cross_val.predict(normalized_unlabelled)\n",
    "#     print(prediction)\n",
    "    \n",
    "    support_vector_distance=cross_val.decision_function(normalized_unlabelled)\n",
    "    support_vector_distance = abs(support_vector_distance)\n",
    "#     print(support_vector_distance)\n",
    "    distance = support_vector_distance.argsort()[:1]\n",
    "#     print('prediction length',len(prediction))\n",
    "#     print('distance matrix lenght',len(support_vector_distance))\n",
    "#     print('distance index: ',distance)\n",
    "#     print('distance: ',support_vector_distance[distance])\n",
    "    \n",
    "    closest_dataframe = normalized_unlabelled.iloc[distance]\n",
    "#     print('closest_dataframe: ',closest_dataframe)\n",
    "    \n",
    "    closest_true_label = norm_unlab_target.iloc[distance]\n",
    "    svm_pred = prediction[distance]\n",
    "    \n",
    "#     print(closest_true_label)\n",
    "#     print('svm_pred: ',svm_pred)\n",
    "    \n",
    "    #all appends\n",
    "    normalized_labelled=normalized_labelled.append(closest_dataframe)\n",
    "    norm_lab_target=norm_lab_target.append(closest_true_label)\n",
    "    norm_lab_target.iloc[-1]=svm_pred \n",
    "    true_labels=true_labels.append(closest_true_label)\n",
    "    \n",
    "    #all drops\n",
    "    normalized_unlabelled = normalized_unlabelled.drop(normalized_unlabelled.index[distance])\n",
    "    norm_unlab_target = norm_unlab_target.drop(norm_unlab_target.index[distance])\n",
    "#     print(\"_______________________________________________________________\")"
   ]
  },
  {
   "cell_type": "code",
   "execution_count": 52,
   "metadata": {},
   "outputs": [
    {
     "data": {
      "text/plain": [
       "598"
      ]
     },
     "execution_count": 52,
     "metadata": {},
     "output_type": "execute_result"
    }
   ],
   "source": [
    "norm_lab_target.shape[0]"
   ]
  },
  {
   "cell_type": "code",
   "execution_count": null,
   "metadata": {},
   "outputs": [],
   "source": [
    "cross_val.fit(normalized_labelled,norm_lab_target)\n",
    "prediction_uns = cross_val.predict(total_df_test.loc[:,:'Time'])\n",
    "accuracy = accuracy_score(total_df_test['blood'],prediction_uns)"
   ]
  },
  {
   "cell_type": "code",
   "execution_count": 54,
   "metadata": {},
   "outputs": [
    {
     "name": "stdout",
     "output_type": "stream",
     "text": [
      "Accuracy using Semi-Supervised learning is:  0.7866666666666666\n"
     ]
    }
   ],
   "source": [
    "print(\"Accuracy using Semi-Supervised learning is: \",accuracy)"
   ]
  },
  {
   "cell_type": "code",
   "execution_count": 55,
   "metadata": {},
   "outputs": [
    {
     "name": "stdout",
     "output_type": "stream",
     "text": [
      "Confusion matrix for Semi-Supervised Learning\n"
     ]
    },
    {
     "data": {
      "image/png": "[encoded data removed]",
      "text/plain": [
       "<matplotlib.figure.Figure at 0x1a1a64a898>"
      ]
     },
     "metadata": {},
     "output_type": "display_data"
    }
   ],
   "source": [
    "cm=confusion_matrix(total_df_test['blood'],prediction_uns)\n",
    "print(\"Confusion matrix for Semi-Supervised Learning\")\n",
    "plotConfusionMatrix(cm)"
   ]
  },
  {
   "cell_type": "code",
   "execution_count": 56,
   "metadata": {},
   "outputs": [
    {
     "data": {
      "image/png": "[encoded data removed]",
      "text/plain": [
       "<matplotlib.figure.Figure at 0x1a1a46cc88>"
      ]
     },
     "metadata": {},
     "output_type": "display_data"
    }
   ],
   "source": [
    "plot_roc_curve(total_df_test['blood'],cross_val.decision_function(total_df_test.loc[:,:'Time']),'ROC Curve for Semi-Suervised Learning')\n",
    "plt.show()"
   ]
  },
  {
   "cell_type": "markdown",
   "metadata": {},
   "source": [
    "(d) Unsupervised Learning: Run k-means algorithm on the whole training set. Ignore the labels of the data, and assume k = 2."
   ]
  },
  {
   "cell_type": "code",
   "execution_count": 57,
   "metadata": {},
   "outputs": [],
   "source": [
    "train = total_df\n",
    "test = total_df_test\n",
    "i = list(range(0,598))\n",
    "j = list(range(0,150))\n",
    "train = train.set_index([i])\n",
    "test = test.set_index([j])"
   ]
  },
  {
   "cell_type": "code",
   "execution_count": 58,
   "metadata": {},
   "outputs": [],
   "source": [
    "a = np.split(train,[-1],axis=1)\n",
    "b= np.split(test,[-1],axis=1)\n",
    "train_df = a[0]\n",
    "train_label = a[1]\n",
    "test_df = b[0]\n",
    "test_label = b[1]"
   ]
  },
  {
   "cell_type": "code",
   "execution_count": 59,
   "metadata": {},
   "outputs": [],
   "source": [
    "from sklearn.cluster import KMeans"
   ]
  },
  {
   "cell_type": "code",
   "execution_count": 60,
   "metadata": {},
   "outputs": [
    {
     "data": {
      "text/plain": [
       "0.36666666666666664"
      ]
     },
     "execution_count": 60,
     "metadata": {},
     "output_type": "execute_result"
    }
   ],
   "source": [
    "kmeans = KMeans(n_clusters=2).fit(train_df)\n",
    "pr = kmeans.predict(test_df)\n",
    "accr = accuracy_score(test_label,pr)\n",
    "accr"
   ]
  },
  {
   "cell_type": "markdown",
   "metadata": {},
   "source": [
    "i. Run the k-means algorithm multiple times. How do you make sure that the algorithm was not trapped in a local minimum?"
   ]
  },
  {
   "cell_type": "markdown",
   "metadata": {},
   "source": [
    "running the algorithm 80 times"
   ]
  },
  {
   "cell_type": "code",
   "execution_count": 61,
   "metadata": {},
   "outputs": [
    {
     "data": {
      "text/plain": [
       "0.6333333333333333"
      ]
     },
     "execution_count": 61,
     "metadata": {},
     "output_type": "execute_result"
    }
   ],
   "source": [
    "kmeans1 = KMeans(n_clusters=2,n_init=80).fit(train_df)\n",
    "pr1 = kmeans1.predict(test_df)\n",
    "accr1 = accuracy_score(test_label,pr1)\n",
    "accr1"
   ]
  },
  {
   "cell_type": "markdown",
   "metadata": {},
   "source": [
    "ii. Compute the centers of the two clusters and find the closest 30 data points to each center. Read the true labels of those 30 data points and take a majority poll within them. The majority poll becomes the label predicted by k-means for the members of each cluster. Then compare the labels provided by k- means with the true labels of the training data and report accuracy and the confusion matrix.1"
   ]
  },
  {
   "cell_type": "markdown",
   "metadata": {},
   "source": [
    "centers of two clusters"
   ]
  },
  {
   "cell_type": "code",
   "execution_count": 62,
   "metadata": {},
   "outputs": [
    {
     "data": {
      "text/plain": [
       "array([[0.15, 0.04, 0.04, 0.2 ],\n",
       "       [0.15, 0.19, 0.19, 0.64]])"
      ]
     },
     "execution_count": 62,
     "metadata": {},
     "output_type": "execute_result"
    }
   ],
   "source": [
    "kmeans1.cluster_centers_"
   ]
  },
  {
   "cell_type": "markdown",
   "metadata": {},
   "source": [
    "distance of data points from center"
   ]
  },
  {
   "cell_type": "code",
   "execution_count": 63,
   "metadata": {},
   "outputs": [],
   "source": [
    "distance = kmeans1.transform(train_df)"
   ]
  },
  {
   "cell_type": "code",
   "execution_count": 64,
   "metadata": {},
   "outputs": [],
   "source": [
    "center1 = distance[:,0]\n",
    "center2 = distance[:,1]"
   ]
  },
  {
   "cell_type": "markdown",
   "metadata": {},
   "source": [
    "calculating 30 closest data points to each center"
   ]
  },
  {
   "cell_type": "code",
   "execution_count": 67,
   "metadata": {},
   "outputs": [
    {
     "name": "stdout",
     "output_type": "stream",
     "text": [
      "[285 362 348 136 125 473  99 346 571  72 366 183  10 371 575 319 101 120\n",
      " 494 316 141 169  29 151 317 420 112 379  57 349]\n",
      "[562 400 550 534  23  89 409 509 257 134 452 474 590   5 596 499 466 359\n",
      " 549 332 116 135 122 514  39 565 580 438  48 137]\n"
     ]
    }
   ],
   "source": [
    "center1_30 = center1.argsort()[:30]\n",
    "center2_30 = center2.argsort()[:30]\n",
    "print(center1_30)\n",
    "print(center2_30)"
   ]
  },
  {
   "cell_type": "code",
   "execution_count": 68,
   "metadata": {},
   "outputs": [],
   "source": [
    "cluster1_truelabels = pd.DataFrame(columns=train_label.columns)\n",
    "cluster2_truelabels = pd.DataFrame(columns=train_label.columns)\n",
    "for i in center1_30:\n",
    "    cluster1_truelabels.loc[i] = train_label.iloc[i]\n",
    "for i in center2_30:\n",
    "    cluster2_truelabels.loc[i] = train_label.iloc[i]"
   ]
  },
  {
   "cell_type": "code",
   "execution_count": 69,
   "metadata": {},
   "outputs": [
    {
     "data": {
      "text/plain": [
       "0.0    24\n",
       "1.0     6\n",
       "Name: blood, dtype: int64"
      ]
     },
     "execution_count": 69,
     "metadata": {},
     "output_type": "execute_result"
    }
   ],
   "source": [
    "cluster2_truelabels['blood'].value_counts()"
   ]
  },
  {
   "cell_type": "code",
   "execution_count": 70,
   "metadata": {},
   "outputs": [
    {
     "data": {
      "text/plain": [
       "0.0    22\n",
       "1.0     8\n",
       "Name: blood, dtype: int64"
      ]
     },
     "execution_count": 70,
     "metadata": {},
     "output_type": "execute_result"
    }
   ],
   "source": [
    "cluster1_truelabels['blood'].value_counts()"
   ]
  },
  {
   "cell_type": "markdown",
   "metadata": {},
   "source": [
    "As seen above by taking majority pooling the label predicted by majority pooling for both the clusters is '0'. Since the data is highly imbalanced, hence kmeans predicts same label for both the clusters."
   ]
  },
  {
   "cell_type": "code",
   "execution_count": 76,
   "metadata": {},
   "outputs": [],
   "source": [
    "labels = kmeans1.labels_\n",
    "labels_df = pd.DataFrame(labels,columns=['blood'])"
   ]
  },
  {
   "cell_type": "code",
   "execution_count": 80,
   "metadata": {},
   "outputs": [
    {
     "name": "stdout",
     "output_type": "stream",
     "text": [
      "Accuracy of unspervised learning is:  0.5769230769230769\n"
     ]
    }
   ],
   "source": [
    "accuracy_unsupervised = accuracy_score(train_label,labels_df)\n",
    "print(\"Accuracy of unspervised learning is: \",accuracy_unsupervised)"
   ]
  },
  {
   "cell_type": "code",
   "execution_count": 101,
   "metadata": {
    "scrolled": true
   },
   "outputs": [
    {
     "name": "stdout",
     "output_type": "stream",
     "text": [
      "Confusion matrix for UnSupervised Learning\n"
     ]
    },
    {
     "data": {
      "image/png": "[encoded data removed]",
      "text/plain": [
       "<matplotlib.figure.Figure at 0x1a1a3f1710>"
      ]
     },
     "metadata": {},
     "output_type": "display_data"
    }
   ],
   "source": [
    "cm=confusion_matrix(train_label,labels_df)\n",
    "print(\"Confusion matrix for UnSupervised Learning\")\n",
    "plotConfusionMatrix(cm)"
   ]
  },
  {
   "cell_type": "markdown",
   "metadata": {},
   "source": [
    "iii. Classify test data based on their proximity to the centers of the clusters. Report accuracy and confusion matrix for the test data."
   ]
  },
  {
   "cell_type": "markdown",
   "metadata": {},
   "source": [
    "classifying the test data based on their proximity to the centers."
   ]
  },
  {
   "cell_type": "code",
   "execution_count": 91,
   "metadata": {
    "scrolled": false
   },
   "outputs": [],
   "source": [
    "distance_test = kmeans1.transform(test_df)\n",
    "close_center1 = distance_test[:,0]\n",
    "close_center2 = distance_test[:,1]"
   ]
  },
  {
   "cell_type": "code",
   "execution_count": 95,
   "metadata": {
    "scrolled": true
   },
   "outputs": [
    {
     "name": "stdout",
     "output_type": "stream",
     "text": [
      "[ 47 114  13  59   8   1  32  99  66  97  25  39  63  67  29 139  84 105\n",
      "  22 101 109 135   0  37  88  16 143  40  41   7  79 121  56  17   5  89\n",
      "  74  51  64  55 108  57 125 130  73  80  34  45   6 127 141  49 100 126\n",
      "  11  68  92 103  72  78 116 148  18  20  85  12 149  19 122  31   3 133\n",
      "  86 118 119]\n",
      "[ 70 107  36 128 104  69 144  30 137  83 111 140 132  48  58 110  14   4\n",
      "  15 145  94 147  75 112 102  65  52  90 120 134  21  91  55  43  76 115\n",
      " 146  10 121 106 113  56 117  44 142 103  79  17  27  41 109 131  61  54\n",
      "  87  24  38 126  25  97  28 129  62 135 108  59  13  89  49 139   5  16\n",
      " 127  72  74]\n"
     ]
    }
   ],
   "source": [
    "center1_closest = close_center1.argsort()[:75]\n",
    "center2_closest = close_center2.argsort()[:75]\n",
    "print(center1_closest)\n",
    "print(center2_closest)"
   ]
  },
  {
   "cell_type": "code",
   "execution_count": 96,
   "metadata": {},
   "outputs": [],
   "source": [
    "cluster1_testdata = pd.DataFrame(columns=test_df.columns)\n",
    "cluster2_testdata = pd.DataFrame(columns=test_df.columns)\n",
    "for i in center1_closest:\n",
    "    cluster1_testdata.loc[i] = test_df.iloc[i]\n",
    "for i in center2_closest:\n",
    "    cluster2_testdata.loc[i] = test_df.iloc[i]"
   ]
  },
  {
   "cell_type": "markdown",
   "metadata": {},
   "source": [
    "test data close to center1 is cluster1_testdata and data close to center2 is stored in cluster2_testdata."
   ]
  },
  {
   "cell_type": "code",
   "execution_count": 98,
   "metadata": {},
   "outputs": [
    {
     "name": "stdout",
     "output_type": "stream",
     "text": [
      "Accuracy of test data sing K-means is:  0.6333333333333333\n"
     ]
    }
   ],
   "source": [
    "pred = kmeans1.predict(test_df)\n",
    "accuracy_kmeans_test = accuracy_score(test_label,pred)\n",
    "print(\"Accuracy of test data sing K-means is: \",accuracy_kmeans_test)"
   ]
  },
  {
   "cell_type": "code",
   "execution_count": 100,
   "metadata": {},
   "outputs": [
    {
     "name": "stdout",
     "output_type": "stream",
     "text": [
      "Confusion matrix for test data using K-means\n"
     ]
    },
    {
     "data": {
      "image/png": "[encoded data removed]",
      "text/plain": [
       "<matplotlib.figure.Figure at 0x1a1a754908>"
      ]
     },
     "metadata": {},
     "output_type": "display_data"
    }
   ],
   "source": [
    "cm=confusion_matrix(test_label,pred)\n",
    "print(\"Confusion matrix for test data using K-means\")\n",
    "plotConfusionMatrix(cm)"
   ]
  },
  {
   "cell_type": "markdown",
   "metadata": {},
   "source": [
    "(f) One expects that supervised learning on the full data set works better than semi- supervised learning with half of the data set labeled.One expects that unsupervised learning underperforms in such situations. Compare the results you obtained by those methods."
   ]
  },
  {
   "cell_type": "code",
   "execution_count": 107,
   "metadata": {},
   "outputs": [
    {
     "name": "stdout",
     "output_type": "stream",
     "text": [
      "Summarized Accuracy for all types of Learning in this Excercise\n"
     ]
    },
    {
     "data": {
      "text/html": [
       "<div>\n",
       "<style scoped>\n",
       "    .dataframe tbody tr th:only-of-type {\n",
       "        vertical-align: middle;\n",
       "    }\n",
       "\n",
       "    .dataframe tbody tr th {\n",
       "        vertical-align: top;\n",
       "    }\n",
       "\n",
       "    .dataframe thead th {\n",
       "        text-align: right;\n",
       "    }\n",
       "</style>\n",
       "<table border=\"1\" class=\"dataframe\">\n",
       "  <thead>\n",
       "    <tr style=\"text-align: right;\">\n",
       "      <th></th>\n",
       "      <th>Supervised Learning</th>\n",
       "      <th>Semi-Supervised Learning</th>\n",
       "      <th>Train data Unsupervised Learning</th>\n",
       "      <th>Test data Unsupervised Learning</th>\n",
       "    </tr>\n",
       "  </thead>\n",
       "  <tbody>\n",
       "    <tr>\n",
       "      <th>0</th>\n",
       "      <td>0.766667</td>\n",
       "      <td>0.786667</td>\n",
       "      <td>0.576923</td>\n",
       "      <td>0.633333</td>\n",
       "    </tr>\n",
       "  </tbody>\n",
       "</table>\n",
       "</div>"
      ],
      "text/plain": [
       "   Supervised Learning  Semi-Supervised Learning  \\\n",
       "0             0.766667                  0.786667   \n",
       "\n",
       "   Train data Unsupervised Learning  Test data Unsupervised Learning  \n",
       "0                          0.576923                         0.633333  "
      ]
     },
     "execution_count": 107,
     "metadata": {},
     "output_type": "execute_result"
    }
   ],
   "source": [
    "accuracy_df = pd.DataFrame(columns=['Supervised Learning','Semi-Supervised Learning','Train data Unsupervised Learning','Test data Unsupervised Learning'])\n",
    "row = [acc,accuracy,accuracy_unsupervised,accuracy_kmeans_test]\n",
    "accuracy_df.loc[0] = row\n",
    "print(\"Summarized Accuracy for all types of Learning in this Excercise\")\n",
    "accuracy_df"
   ]
  },
  {
   "cell_type": "markdown",
   "metadata": {},
   "source": [
    "My results obtained are slightly different than as expected. For the data I trained the supervised learning performs a little worse than the semi-supervised learning. The accuracy of supervised learning is approximately 76% and that of semi-supervised learning is approximately 78%. Hence for my observation semi-supervised learning is performing better than supervised learning. However there is no doubt that the unsupervised learning performs the worst of all. The accuracy using K-means is the lowest and observed as approximately 57% in this experiment. K-means is assigning same labels to both clusters using majority pooling. Hence we can confirm that unsupervised learning underperforms the supervised and semi-supervised learning. "
   ]
  }
 ],
 "metadata": {
  "kernelspec": {
   "display_name": "Python 3",
   "language": "python",
   "name": "python3"
  },
  "language_info": {
   "codemirror_mode": {
    "name": "ipython",
    "version": 3
   },
   "file_extension": ".py",
   "mimetype": "text/x-python",
   "name": "python",
   "nbconvert_exporter": "python",
   "pygments_lexer": "ipython3",
   "version": "3.6.4"
  }
 },
 "nbformat": 4,
 "nbformat_minor": 2
}
